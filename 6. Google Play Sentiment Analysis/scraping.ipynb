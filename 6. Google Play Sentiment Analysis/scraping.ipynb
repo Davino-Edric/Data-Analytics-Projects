{
 "cells": [
  {
   "cell_type": "code",
   "execution_count": 2,
   "metadata": {},
   "outputs": [],
   "source": [
    "import pandas as pd\n",
    "from google_play_scraper import reviews, Sort"
   ]
  },
  {
   "cell_type": "code",
   "execution_count": null,
   "metadata": {},
   "outputs": [],
   "source": [
    "# ONLY USE ONCE\n",
    "\n",
    "\n",
    "result, _ = reviews(\n",
    "    'com.ubercab',\n",
    "    sort=Sort.MOST_RELEVANT,\n",
    "    count=50000\n",
    ")\n",
    "result[0]\n",
    "df = pd.DataFrame(result)[['content', 'score']]\n",
    "df.to_csv(\"gplay_scrape_uber50.csv\")"
   ]
  }
 ],
 "metadata": {
  "kernelspec": {
   "display_name": "Python 3",
   "language": "python",
   "name": "python3"
  },
  "language_info": {
   "codemirror_mode": {
    "name": "ipython",
    "version": 3
   },
   "file_extension": ".py",
   "mimetype": "text/x-python",
   "name": "python",
   "nbconvert_exporter": "python",
   "pygments_lexer": "ipython3",
   "version": "3.12.7"
  }
 },
 "nbformat": 4,
 "nbformat_minor": 2
}
