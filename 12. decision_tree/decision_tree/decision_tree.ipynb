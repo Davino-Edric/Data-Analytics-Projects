{
 "cells": [
  {
   "cell_type": "code",
   "execution_count": 43,
   "metadata": {},
   "outputs": [],
   "source": [
    "import pandas as pd\n",
    "import numpy as np\n",
    "import seaborn as sns\n",
    "import matplotlib.pyplot as plt"
   ]
  },
  {
   "cell_type": "code",
   "execution_count": 44,
   "metadata": {},
   "outputs": [
    {
     "data": {
      "text/html": [
       "<div>\n",
       "<style scoped>\n",
       "    .dataframe tbody tr th:only-of-type {\n",
       "        vertical-align: middle;\n",
       "    }\n",
       "\n",
       "    .dataframe tbody tr th {\n",
       "        vertical-align: top;\n",
       "    }\n",
       "\n",
       "    .dataframe thead th {\n",
       "        text-align: right;\n",
       "    }\n",
       "</style>\n",
       "<table border=\"1\" class=\"dataframe\">\n",
       "  <thead>\n",
       "    <tr style=\"text-align: right;\">\n",
       "      <th></th>\n",
       "      <th>mpg</th>\n",
       "      <th>cylinders</th>\n",
       "      <th>cubicinches</th>\n",
       "      <th>hp</th>\n",
       "      <th>weightlbs</th>\n",
       "      <th>time-to-60</th>\n",
       "      <th>year</th>\n",
       "      <th>brand</th>\n",
       "    </tr>\n",
       "  </thead>\n",
       "  <tbody>\n",
       "    <tr>\n",
       "      <th>0</th>\n",
       "      <td>14.0</td>\n",
       "      <td>8</td>\n",
       "      <td>350</td>\n",
       "      <td>165</td>\n",
       "      <td>4209</td>\n",
       "      <td>12</td>\n",
       "      <td>1972</td>\n",
       "      <td>US.</td>\n",
       "    </tr>\n",
       "    <tr>\n",
       "      <th>1</th>\n",
       "      <td>31.9</td>\n",
       "      <td>4</td>\n",
       "      <td>89</td>\n",
       "      <td>71</td>\n",
       "      <td>1925</td>\n",
       "      <td>14</td>\n",
       "      <td>1980</td>\n",
       "      <td>Europe.</td>\n",
       "    </tr>\n",
       "    <tr>\n",
       "      <th>2</th>\n",
       "      <td>17.0</td>\n",
       "      <td>8</td>\n",
       "      <td>302</td>\n",
       "      <td>140</td>\n",
       "      <td>3449</td>\n",
       "      <td>11</td>\n",
       "      <td>1971</td>\n",
       "      <td>US.</td>\n",
       "    </tr>\n",
       "    <tr>\n",
       "      <th>3</th>\n",
       "      <td>15.0</td>\n",
       "      <td>8</td>\n",
       "      <td>400</td>\n",
       "      <td>150</td>\n",
       "      <td>3761</td>\n",
       "      <td>10</td>\n",
       "      <td>1971</td>\n",
       "      <td>US.</td>\n",
       "    </tr>\n",
       "    <tr>\n",
       "      <th>4</th>\n",
       "      <td>30.5</td>\n",
       "      <td>4</td>\n",
       "      <td>98</td>\n",
       "      <td>63</td>\n",
       "      <td>2051</td>\n",
       "      <td>17</td>\n",
       "      <td>1978</td>\n",
       "      <td>US.</td>\n",
       "    </tr>\n",
       "  </tbody>\n",
       "</table>\n",
       "</div>"
      ],
      "text/plain": [
       "    mpg   cylinders  cubicinches   hp  weightlbs   time-to-60   year     brand\n",
       "0  14.0           8          350  165       4209           12   1972       US.\n",
       "1  31.9           4           89   71       1925           14   1980   Europe.\n",
       "2  17.0           8          302  140       3449           11   1971       US.\n",
       "3  15.0           8          400  150       3761           10   1971       US.\n",
       "4  30.5           4           98   63       2051           17   1978       US."
      ]
     },
     "execution_count": 44,
     "metadata": {},
     "output_type": "execute_result"
    }
   ],
   "source": [
    "df = pd.read_csv('cars.csv')\n",
    "df.head()"
   ]
  },
  {
   "cell_type": "code",
   "execution_count": 45,
   "metadata": {},
   "outputs": [
    {
     "data": {
      "text/plain": [
       "mpg             float64\n",
       " cylinders        int64\n",
       " cubicinches     object\n",
       " hp               int64\n",
       " weightlbs       object\n",
       " time-to-60       int64\n",
       " year             int64\n",
       " brand           object\n",
       "dtype: object"
      ]
     },
     "execution_count": 45,
     "metadata": {},
     "output_type": "execute_result"
    }
   ],
   "source": [
    "df.dtypes"
   ]
  },
  {
   "cell_type": "code",
   "execution_count": 46,
   "metadata": {},
   "outputs": [],
   "source": [
    "df[' cubicinches'] = pd.to_numeric(df[' cubicinches'], errors='coerce')\n",
    "df[' weightlbs'] = pd.to_numeric(df[' weightlbs'], errors='coerce')"
   ]
  },
  {
   "cell_type": "code",
   "execution_count": 47,
   "metadata": {},
   "outputs": [
    {
     "data": {
      "text/plain": [
       "mpg             0\n",
       " cylinders      0\n",
       " cubicinches    2\n",
       " hp             0\n",
       " weightlbs      3\n",
       " time-to-60     0\n",
       " year           0\n",
       " brand          0\n",
       "dtype: int64"
      ]
     },
     "execution_count": 47,
     "metadata": {},
     "output_type": "execute_result"
    }
   ],
   "source": [
    "df.isna().sum()"
   ]
  },
  {
   "cell_type": "code",
   "execution_count": 48,
   "metadata": {},
   "outputs": [],
   "source": [
    "df.dropna(inplace=True)"
   ]
  },
  {
   "cell_type": "code",
   "execution_count": 49,
   "metadata": {},
   "outputs": [
    {
     "data": {
      "text/plain": [
       "np.int64(0)"
      ]
     },
     "execution_count": 49,
     "metadata": {},
     "output_type": "execute_result"
    }
   ],
   "source": [
    "df.duplicated().sum()"
   ]
  },
  {
   "cell_type": "code",
   "execution_count": 50,
   "metadata": {},
   "outputs": [],
   "source": [
    "mappings = {}\n",
    "for col in df.select_dtypes(include='object'):\n",
    "    unique_labels = df[col].unique()\n",
    "    value_to_label = {key: value for value, key in enumerate(unique_labels)}\n",
    "    mappings[col] = value_to_label\n",
    "    df[col] = df[col].map(value_to_label)"
   ]
  },
  {
   "cell_type": "code",
   "execution_count": 51,
   "metadata": {},
   "outputs": [],
   "source": [
    "# mappings"
   ]
  },
  {
   "cell_type": "code",
   "execution_count": 52,
   "metadata": {},
   "outputs": [],
   "source": [
    "# df.head()"
   ]
  },
  {
   "cell_type": "code",
   "execution_count": 53,
   "metadata": {},
   "outputs": [],
   "source": [
    "x = df.drop(columns = ' brand')\n",
    "y = df[' brand']"
   ]
  },
  {
   "cell_type": "code",
   "execution_count": 54,
   "metadata": {},
   "outputs": [],
   "source": [
    "# x"
   ]
  },
  {
   "cell_type": "code",
   "execution_count": 55,
   "metadata": {},
   "outputs": [
    {
     "name": "stdout",
     "output_type": "stream",
     "text": [
      "(204, 7)\n",
      "(52, 7)\n",
      "(204,)\n",
      "(52,)\n"
     ]
    }
   ],
   "source": [
    "np.random.seed(0)\n",
    "train_size = int(len(x) * 0.8)\n",
    "idx = np.random.permutation(len(x))\n",
    "\n",
    "x_train, x_test = x.iloc[idx[:train_size]], x.iloc[idx[train_size:]]\n",
    "y_train, y_test = y.iloc[idx[:train_size]], y.iloc[idx[train_size:]]\n",
    "\n",
    "print(x_train.shape)\n",
    "print(x_test.shape)\n",
    "print(y_train.shape)\n",
    "print(y_test.shape)"
   ]
  },
  {
   "cell_type": "code",
   "execution_count": 56,
   "metadata": {},
   "outputs": [],
   "source": [
    "# print(type(x_train))\n",
    "# print(type(x_test))\n",
    "# print(type(y_train))\n",
    "# print(type(y_test))"
   ]
  },
  {
   "cell_type": "code",
   "execution_count": 57,
   "metadata": {},
   "outputs": [],
   "source": [
    "# from sklearn.tree import DecisionTreeClassifier"
   ]
  },
  {
   "cell_type": "code",
   "execution_count": 58,
   "metadata": {},
   "outputs": [],
   "source": [
    "# model = DecisionTreeClassifier(max_depth=5, criterion='gini', splitter='best')"
   ]
  },
  {
   "cell_type": "code",
   "execution_count": 59,
   "metadata": {},
   "outputs": [],
   "source": [
    "# model.fit(x_train, y_train)"
   ]
  },
  {
   "cell_type": "code",
   "execution_count": 60,
   "metadata": {},
   "outputs": [],
   "source": [
    "# y_pred = model.predict(x_test)"
   ]
  },
  {
   "cell_type": "code",
   "execution_count": 61,
   "metadata": {},
   "outputs": [],
   "source": [
    "from collections import Counter"
   ]
  },
  {
   "cell_type": "code",
   "execution_count": 62,
   "metadata": {},
   "outputs": [],
   "source": [
    "class Node:\n",
    "    def __init__(self, gini, num_samples, num_samples_per_class, predicted_class):\n",
    "        self.gini = gini\n",
    "        self.num_samples = num_samples\n",
    "        self.num_samples_per_class = num_samples_per_class\n",
    "        self.predicted_class = predicted_class\n",
    "        self.feature_index = 0\n",
    "        self.threshold = 0\n",
    "        self.left = None\n",
    "        self.right = None\n",
    "\n",
    "def gini_index(y):\n",
    "    m = len(y)\n",
    "    return 1.0 - sum((np.sum(y == c) / m) ** 2 for c in np.unique(y))\n",
    "\n",
    "def entropy(y):\n",
    "    m = len(y)\n",
    "    return -sum((np.sum(y == c) / m) * np.log2(np.sum(y == c) / m) for c in np.unique(y))\n",
    "\n",
    "def grow_tree(X, y, depth=0, max_depth=5, min_samples_split=2, min_samples_leaf=1, criterion='gini'):\n",
    "    num_samples_per_class = [np.sum(y == i) for i in np.unique(y)] #jumlah per kelas\n",
    "    predicted_class = np.argmax(num_samples_per_class) #kelas yang paling banyak\n",
    "    node = Node(\n",
    "        gini=gini_index(y) if criterion == 'gini' else entropy(y),\n",
    "        num_samples=len(y),\n",
    "        num_samples_per_class=num_samples_per_class,\n",
    "        predicted_class=predicted_class,\n",
    "    )\n",
    "\n",
    "    if depth < max_depth and len(y) >= min_samples_split:\n",
    "        idx, thr = best_split(X, y, min_samples_leaf, criterion)\n",
    "        if idx is not None:\n",
    "            indices_left = X[:, idx] < thr\n",
    "            X_left, y_left = X[indices_left], y[indices_left]\n",
    "            X_right, y_right = X[~indices_left], y[~indices_left]\n",
    "            node.feature_index = idx\n",
    "            node.threshold = thr\n",
    "            node.left = grow_tree(X_left, y_left, depth + 1, max_depth, min_samples_split, min_samples_leaf, criterion)\n",
    "            node.right = grow_tree(X_right, y_right, depth + 1, max_depth, min_samples_split, min_samples_leaf, criterion)\n",
    "    return node\n",
    "\n",
    "def best_split(X, y, min_samples_leaf, criterion):\n",
    "    m, n = X.shape\n",
    "    if m <= 1:\n",
    "        return None, None\n",
    "\n",
    "    num_parent = [np.sum(y == c) for c in np.unique(y)]\n",
    "    best_gini = 1.0 - sum((num / m) ** 2 for num in num_parent) if criterion == 'gini' else entropy(y)\n",
    "    best_idx, best_thr = None, None\n",
    "\n",
    "    for idx in range(n):\n",
    "        thresholds, classes = zip(*sorted(zip(X[:, idx], y)))\n",
    "        num_left = Counter()\n",
    "        num_right = Counter(num_parent)\n",
    "        for i in range(1, m):\n",
    "            c = classes[i - 1]\n",
    "            num_left[c] += 1\n",
    "            num_right[c] -= 1\n",
    "            if i < min_samples_leaf or m - i < min_samples_leaf:\n",
    "                continue\n",
    "            gini_left = 1.0 - sum((num_left[x] / i) ** 2 for x in num_left) if criterion == 'gini' else entropy(list(num_left.elements()))\n",
    "            gini_right = 1.0 - sum((num_right[x] / (m - i)) ** 2 for x in num_right) if criterion == 'gini' else entropy(list(num_right.elements()))\n",
    "            gini = (i * gini_left + (m - i) * gini_right) / m\n",
    "\n",
    "            if thresholds[i] == thresholds[i - 1]:\n",
    "                continue\n",
    "\n",
    "            if gini < best_gini:\n",
    "                best_gini = gini\n",
    "                best_idx = idx\n",
    "                best_thr = (thresholds[i] + thresholds[i - 1]) / 2\n",
    "    return best_idx, best_thr"
   ]
  },
  {
   "cell_type": "code",
   "execution_count": 63,
   "metadata": {},
   "outputs": [],
   "source": [
    "class DecisionTreeClassifierFromScratch:\n",
    "    def __init__(self, max_depth=5, min_samples_split=2, min_samples_leaf=1, criterion='gini'):\n",
    "        self.max_depth = max_depth\n",
    "        self.min_samples_split = min_samples_split\n",
    "        self.min_samples_leaf = min_samples_leaf\n",
    "        self.criterion = criterion\n",
    "        self.tree = None\n",
    "\n",
    "    def fit(self, X, y):\n",
    "        self.tree = grow_tree(X, y, max_depth=self.max_depth, min_samples_split=self.min_samples_split, min_samples_leaf=self.min_samples_leaf, criterion=self.criterion)\n",
    "\n",
    "    def predict(self, X):\n",
    "        return [self._predict(inputs) for inputs in X]\n",
    "\n",
    "    def _predict(self, inputs):\n",
    "        node = self.tree\n",
    "        while node.left:\n",
    "            if inputs[node.feature_index] < node.threshold:\n",
    "                node = node.left\n",
    "            else:\n",
    "                node = node.right\n",
    "        return node.predicted_class"
   ]
  },
  {
   "cell_type": "code",
   "execution_count": 64,
   "metadata": {},
   "outputs": [],
   "source": [
    "model = DecisionTreeClassifierFromScratch(max_depth=6, min_samples_split=5, min_samples_leaf=4, criterion='gini')"
   ]
  },
  {
   "cell_type": "code",
   "execution_count": 65,
   "metadata": {},
   "outputs": [],
   "source": [
    "model.fit(x_train.values, y_train.values)"
   ]
  },
  {
   "cell_type": "code",
   "execution_count": 66,
   "metadata": {},
   "outputs": [],
   "source": [
    "y_pred = model.predict(x_test.values)"
   ]
  },
  {
   "cell_type": "code",
   "execution_count": 67,
   "metadata": {},
   "outputs": [
    {
     "data": {
      "text/plain": [
       "[np.int64(0),\n",
       " np.int64(0),\n",
       " np.int64(0),\n",
       " np.int64(0),\n",
       " np.int64(0),\n",
       " np.int64(0),\n",
       " np.int64(0),\n",
       " np.int64(0),\n",
       " np.int64(0),\n",
       " np.int64(0),\n",
       " np.int64(0),\n",
       " np.int64(0),\n",
       " np.int64(0),\n",
       " np.int64(0),\n",
       " np.int64(1),\n",
       " np.int64(1),\n",
       " np.int64(0),\n",
       " np.int64(0),\n",
       " np.int64(0),\n",
       " np.int64(0),\n",
       " np.int64(1),\n",
       " np.int64(0),\n",
       " np.int64(0),\n",
       " np.int64(0),\n",
       " np.int64(0),\n",
       " np.int64(0),\n",
       " np.int64(0),\n",
       " np.int64(0),\n",
       " np.int64(0),\n",
       " np.int64(0),\n",
       " np.int64(0),\n",
       " np.int64(0),\n",
       " np.int64(1),\n",
       " np.int64(0),\n",
       " np.int64(0),\n",
       " np.int64(1),\n",
       " np.int64(0),\n",
       " np.int64(0),\n",
       " np.int64(0),\n",
       " np.int64(0),\n",
       " np.int64(0),\n",
       " np.int64(1),\n",
       " np.int64(0),\n",
       " np.int64(1),\n",
       " np.int64(0),\n",
       " np.int64(1),\n",
       " np.int64(0),\n",
       " np.int64(0),\n",
       " np.int64(1),\n",
       " np.int64(0),\n",
       " np.int64(0),\n",
       " np.int64(0)]"
      ]
     },
     "execution_count": 67,
     "metadata": {},
     "output_type": "execute_result"
    }
   ],
   "source": [
    "y_pred"
   ]
  },
  {
   "cell_type": "code",
   "execution_count": 68,
   "metadata": {},
   "outputs": [
    {
     "name": "stdout",
     "output_type": "stream",
     "text": [
      "Accuracy: 0.4807692307692308\n"
     ]
    }
   ],
   "source": [
    "accuracy = np.mean(y_test == y_pred)\n",
    "print(f'Accuracy: {accuracy}')"
   ]
  },
  {
   "cell_type": "code",
   "execution_count": 69,
   "metadata": {},
   "outputs": [],
   "source": [
    "from customtkinter import *"
   ]
  },
  {
   "cell_type": "code",
   "execution_count": 86,
   "metadata": {},
   "outputs": [
    {
     "data": {
      "text/html": [
       "<div>\n",
       "<style scoped>\n",
       "    .dataframe tbody tr th:only-of-type {\n",
       "        vertical-align: middle;\n",
       "    }\n",
       "\n",
       "    .dataframe tbody tr th {\n",
       "        vertical-align: top;\n",
       "    }\n",
       "\n",
       "    .dataframe thead th {\n",
       "        text-align: right;\n",
       "    }\n",
       "</style>\n",
       "<table border=\"1\" class=\"dataframe\">\n",
       "  <thead>\n",
       "    <tr style=\"text-align: right;\">\n",
       "      <th></th>\n",
       "      <th>mpg</th>\n",
       "      <th>cylinders</th>\n",
       "      <th>cubicinches</th>\n",
       "      <th>hp</th>\n",
       "      <th>weightlbs</th>\n",
       "      <th>time-to-60</th>\n",
       "      <th>year</th>\n",
       "    </tr>\n",
       "  </thead>\n",
       "  <tbody>\n",
       "    <tr>\n",
       "      <th>214</th>\n",
       "      <td>22.0</td>\n",
       "      <td>6</td>\n",
       "      <td>225.0</td>\n",
       "      <td>100</td>\n",
       "      <td>3233.0</td>\n",
       "      <td>15</td>\n",
       "      <td>1977</td>\n",
       "    </tr>\n",
       "    <tr>\n",
       "      <th>130</th>\n",
       "      <td>26.0</td>\n",
       "      <td>4</td>\n",
       "      <td>97.0</td>\n",
       "      <td>78</td>\n",
       "      <td>2300.0</td>\n",
       "      <td>15</td>\n",
       "      <td>1975</td>\n",
       "    </tr>\n",
       "    <tr>\n",
       "      <th>190</th>\n",
       "      <td>25.8</td>\n",
       "      <td>4</td>\n",
       "      <td>156.0</td>\n",
       "      <td>92</td>\n",
       "      <td>2620.0</td>\n",
       "      <td>14</td>\n",
       "      <td>1982</td>\n",
       "    </tr>\n",
       "    <tr>\n",
       "      <th>231</th>\n",
       "      <td>28.0</td>\n",
       "      <td>4</td>\n",
       "      <td>120.0</td>\n",
       "      <td>79</td>\n",
       "      <td>2625.0</td>\n",
       "      <td>19</td>\n",
       "      <td>1983</td>\n",
       "    </tr>\n",
       "    <tr>\n",
       "      <th>242</th>\n",
       "      <td>16.0</td>\n",
       "      <td>8</td>\n",
       "      <td>400.0</td>\n",
       "      <td>180</td>\n",
       "      <td>4220.0</td>\n",
       "      <td>11</td>\n",
       "      <td>1978</td>\n",
       "    </tr>\n",
       "  </tbody>\n",
       "</table>\n",
       "</div>"
      ],
      "text/plain": [
       "      mpg   cylinders   cubicinches   hp   weightlbs   time-to-60   year\n",
       "214  22.0           6         225.0  100      3233.0           15   1977\n",
       "130  26.0           4          97.0   78      2300.0           15   1975\n",
       "190  25.8           4         156.0   92      2620.0           14   1982\n",
       "231  28.0           4         120.0   79      2625.0           19   1983\n",
       "242  16.0           8         400.0  180      4220.0           11   1978"
      ]
     },
     "execution_count": 86,
     "metadata": {},
     "output_type": "execute_result"
    }
   ],
   "source": [
    "x_test.head()"
   ]
  },
  {
   "cell_type": "code",
   "execution_count": 88,
   "metadata": {},
   "outputs": [
    {
     "data": {
      "text/plain": [
       "214    0\n",
       "130    1\n",
       "190    0\n",
       "231    0\n",
       "242    0\n",
       "34     2\n",
       "170    2\n",
       "145    1\n",
       "218    0\n",
       "150    2\n",
       "30     2\n",
       "182    0\n",
       "246    0\n",
       "102    0\n",
       "85     2\n",
       "257    2\n",
       "179    2\n",
       "82     0\n",
       "202    0\n",
       "213    1\n",
       "118    0\n",
       "151    2\n",
       "253    0\n",
       "75     0\n",
       "80     0\n",
       "26     2\n",
       "168    2\n",
       "84     1\n",
       "245    0\n",
       "178    0\n",
       "248    2\n",
       "42     0\n",
       "235    1\n",
       "198    1\n",
       "61     2\n",
       "143    2\n",
       "91     2\n",
       "221    1\n",
       "73     2\n",
       "90     2\n",
       "38     0\n",
       "247    1\n",
       "22     0\n",
       "216    2\n",
       "9      2\n",
       "106    1\n",
       "200    1\n",
       "70     0\n",
       "197    1\n",
       "120    1\n",
       "50     0\n",
       "176    0\n",
       "Name:  brand, dtype: int64"
      ]
     },
     "execution_count": 88,
     "metadata": {},
     "output_type": "execute_result"
    }
   ],
   "source": [
    "y_test"
   ]
  },
  {
   "cell_type": "code",
   "execution_count": 77,
   "metadata": {},
   "outputs": [
    {
     "data": {
      "text/plain": [
       "{' US.': 0, ' Europe.': 1, ' Japan.': 2}"
      ]
     },
     "execution_count": 77,
     "metadata": {},
     "output_type": "execute_result"
    }
   ],
   "source": [
    "mappings[' brand']"
   ]
  },
  {
   "cell_type": "code",
   "execution_count": 84,
   "metadata": {},
   "outputs": [],
   "source": [
    "def gui_call():\n",
    "    baseplate = CTk()\n",
    "    baseplate.title('Decision tree GUI')\n",
    "    set_appearance_mode('dark')\n",
    "    baseplate.geometry('650x550')\n",
    "    \n",
    "    def answer():\n",
    "        try:\n",
    "            raw_data = np.array([\n",
    "                float(entry_input1.get()),\n",
    "                int(entry_input2.get()),\n",
    "                float(entry_input3.get()),\n",
    "                float(entry_input4.get()),\n",
    "                float(entry_input5.get()),\n",
    "                float(entry_input6.get()),\n",
    "                int(entry_input7.get()),\n",
    "            ]).reshape(1, -1)\n",
    "            print(raw_data)\n",
    "            predict = model.predict(raw_data)[0]\n",
    "            pred_dict = {0 : 'US', 1 :' Europe.', 2:' Japan.'}\n",
    "            print(pred_dict[predict])\n",
    "            label_output.configure(text=f'Prediksi {pred_dict[predict]}', text_color='light green',font=('Arial',14))\n",
    "            \n",
    "        except Exception as e:\n",
    "            print(f'Error occured {e}')\n",
    "            label_output.configure(text=f'Error occured {e}', text_color='red',font=('Arial',14))\n",
    "            \n",
    "    \n",
    "    label_title = CTkLabel(text='Car Country Checker',master=baseplate, font=('Arial', 14))\n",
    "    label_title.place(relx=0.4,rely=0.1)\n",
    "    \n",
    "    label_input1 = CTkLabel(text='Masukkan nilai MPG',master=baseplate, font=('Arial', 12))\n",
    "    label_input1.place(relx=0.05,rely=0.2)\n",
    "    entry_input1 = CTkEntry(placeholder_text='Masukkan nilai MPG',master=baseplate, font=('Arial', 12), width=300)\n",
    "    entry_input1.place(relx=0.30,rely=0.2) \n",
    "    \n",
    "    label_input2 = CTkLabel(text='Masukkan jumlah cylinders',master=baseplate, font=('Arial', 12))\n",
    "    label_input2.place(relx=0.05,rely=0.28)\n",
    "    entry_input2 = CTkEntry(placeholder_text='Masukkan jumlah cylinders mobil',master=baseplate, font=('Arial', 12), width=300)\n",
    "    entry_input2.place(relx=0.30,rely=0.28)\n",
    "    \n",
    "    label_input3 = CTkLabel(text='Masukkan jumlah in^3',master=baseplate, font=('Arial', 12))\n",
    "    label_input3.place(relx=0.05,rely=0.36)\n",
    "    entry_input3 = CTkEntry(placeholder_text='Masukkan jumlah in^3',master=baseplate, font=('Arial', 12), width=300)\n",
    "    entry_input3.place(relx=0.30,rely=0.36)\n",
    "    \n",
    "    label_input4 = CTkLabel(text='Masukkan jumlah horsepower',master=baseplate, font=('Arial', 12))\n",
    "    label_input4.place(relx=0.05,rely=0.44)\n",
    "    entry_input4 = CTkEntry(placeholder_text='Masukkan jumlah horsepower',master=baseplate, font=('Arial', 12), width=300)\n",
    "    entry_input4.place(relx=0.30,rely=0.44)\n",
    "    \n",
    "    label_input5 = CTkLabel(text='Masukkan berat mobil lbs',master=baseplate, font=('Arial', 12))\n",
    "    label_input5.place(relx=0.05,rely=0.52)\n",
    "    entry_input5 = CTkEntry(placeholder_text='Masukkan berat mobil lbs',master=baseplate, font=('Arial', 12), width=300)\n",
    "    entry_input5.place(relx=0.30,rely=0.52)\n",
    "    \n",
    "    label_input6 = CTkLabel(text='Masukkan time to 60',master=baseplate, font=('Arial', 12))\n",
    "    label_input6.place(relx=0.05,rely=0.60)\n",
    "    entry_input6 = CTkEntry(placeholder_text='Masukkan time to 60',master=baseplate, font=('Arial', 12), width=300)\n",
    "    entry_input6.place(relx=0.30,rely=0.60)\n",
    "    \n",
    "    label_input7 = CTkLabel(text='Masukkan tahun mobil dibuat',master=baseplate, font=('Arial', 12))\n",
    "    label_input7.place(relx=0.05,rely=0.68)\n",
    "    entry_input7 = CTkEntry(placeholder_text='Masukkan tahun mobil dibuat',master=baseplate, font=('Arial', 12), width=300)\n",
    "    entry_input7.place(relx=0.30,rely=0.68)\n",
    "    \n",
    "    btn = CTkButton(text='Enter' ,master=baseplate, fg_color='green', command=answer)\n",
    "    btn.place(relx=0.3,rely=0.76)\n",
    "    \n",
    "    label_output = CTkLabel(master=baseplate, text='', font=('Arial',14), text_color='red')\n",
    "    label_output.place(relx=0.3,rely=0.85)\n",
    "\n",
    "    baseplate.mainloop()"
   ]
  },
  {
   "cell_type": "code",
   "execution_count": 87,
   "metadata": {},
   "outputs": [
    {
     "name": "stdout",
     "output_type": "stream",
     "text": [
      "[[  22.    6.  225.  100. 3233.   15. 1977.]]\n",
      "US\n"
     ]
    }
   ],
   "source": [
    "gui_call()"
   ]
  },
  {
   "cell_type": "code",
   "execution_count": null,
   "metadata": {},
   "outputs": [],
   "source": []
  }
 ],
 "metadata": {
  "kernelspec": {
   "display_name": "Python 3",
   "language": "python",
   "name": "python3"
  },
  "language_info": {
   "codemirror_mode": {
    "name": "ipython",
    "version": 3
   },
   "file_extension": ".py",
   "mimetype": "text/x-python",
   "name": "python",
   "nbconvert_exporter": "python",
   "pygments_lexer": "ipython3",
   "version": "3.12.7"
  }
 },
 "nbformat": 4,
 "nbformat_minor": 2
}
