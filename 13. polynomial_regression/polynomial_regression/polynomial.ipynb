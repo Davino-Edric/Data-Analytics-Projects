{
 "cells": [
  {
   "cell_type": "code",
   "execution_count": 1,
   "metadata": {},
   "outputs": [],
   "source": [
    "import pandas as pd\n",
    "import numpy as np\n",
    "import seaborn as sns\n",
    "import matplotlib.pyplot as plt"
   ]
  },
  {
   "cell_type": "code",
   "execution_count": 2,
   "metadata": {},
   "outputs": [
    {
     "data": {
      "text/html": [
       "<div>\n",
       "<style scoped>\n",
       "    .dataframe tbody tr th:only-of-type {\n",
       "        vertical-align: middle;\n",
       "    }\n",
       "\n",
       "    .dataframe tbody tr th {\n",
       "        vertical-align: top;\n",
       "    }\n",
       "\n",
       "    .dataframe thead th {\n",
       "        text-align: right;\n",
       "    }\n",
       "</style>\n",
       "<table border=\"1\" class=\"dataframe\">\n",
       "  <thead>\n",
       "    <tr style=\"text-align: right;\">\n",
       "      <th></th>\n",
       "      <th>Temperature (°C)</th>\n",
       "      <th>Ice Cream Sales (units)</th>\n",
       "    </tr>\n",
       "  </thead>\n",
       "  <tbody>\n",
       "    <tr>\n",
       "      <th>0</th>\n",
       "      <td>-4.662263</td>\n",
       "      <td>41.842986</td>\n",
       "    </tr>\n",
       "    <tr>\n",
       "      <th>1</th>\n",
       "      <td>-4.316559</td>\n",
       "      <td>34.661120</td>\n",
       "    </tr>\n",
       "    <tr>\n",
       "      <th>2</th>\n",
       "      <td>-4.213985</td>\n",
       "      <td>39.383001</td>\n",
       "    </tr>\n",
       "    <tr>\n",
       "      <th>3</th>\n",
       "      <td>-3.949661</td>\n",
       "      <td>37.539845</td>\n",
       "    </tr>\n",
       "    <tr>\n",
       "      <th>4</th>\n",
       "      <td>-3.578554</td>\n",
       "      <td>32.284531</td>\n",
       "    </tr>\n",
       "  </tbody>\n",
       "</table>\n",
       "</div>"
      ],
      "text/plain": [
       "   Temperature (°C)  Ice Cream Sales (units)\n",
       "0         -4.662263                41.842986\n",
       "1         -4.316559                34.661120\n",
       "2         -4.213985                39.383001\n",
       "3         -3.949661                37.539845\n",
       "4         -3.578554                32.284531"
      ]
     },
     "execution_count": 2,
     "metadata": {},
     "output_type": "execute_result"
    }
   ],
   "source": [
    "df = pd.read_csv('Ice_cream selling data.csv')\n",
    "df.head()"
   ]
  },
  {
   "cell_type": "code",
   "execution_count": 3,
   "metadata": {},
   "outputs": [
    {
     "data": {
      "text/plain": [
       "Temperature (°C)           0\n",
       "Ice Cream Sales (units)    0\n",
       "dtype: int64"
      ]
     },
     "execution_count": 3,
     "metadata": {},
     "output_type": "execute_result"
    }
   ],
   "source": [
    "df.isna().sum()"
   ]
  },
  {
   "cell_type": "code",
   "execution_count": 4,
   "metadata": {},
   "outputs": [
    {
     "data": {
      "text/plain": [
       "np.int64(0)"
      ]
     },
     "execution_count": 4,
     "metadata": {},
     "output_type": "execute_result"
    }
   ],
   "source": [
    "df.duplicated().sum()"
   ]
  },
  {
   "cell_type": "code",
   "execution_count": 5,
   "metadata": {},
   "outputs": [
    {
     "data": {
      "text/plain": [
       "(49, 2)"
      ]
     },
     "execution_count": 5,
     "metadata": {},
     "output_type": "execute_result"
    }
   ],
   "source": [
    "df.shape"
   ]
  },
  {
   "cell_type": "code",
   "execution_count": 6,
   "metadata": {},
   "outputs": [
    {
     "data": {
      "text/plain": [
       "<Axes: >"
      ]
     },
     "execution_count": 6,
     "metadata": {},
     "output_type": "execute_result"
    },
    {
     "data": {
      "image/png": "[encoded data removed]",
      "text/plain": [
       "<Figure size 640x480 with 1 Axes>"
      ]
     },
     "metadata": {},
     "output_type": "display_data"
    }
   ],
   "source": [
    "sns.boxplot(df, orient='h')"
   ]
  },
  {
   "cell_type": "code",
   "execution_count": 7,
   "metadata": {},
   "outputs": [],
   "source": [
    "x = df['Temperature (°C)']\n",
    "y = df['Ice Cream Sales (units)']"
   ]
  },
  {
   "cell_type": "code",
   "execution_count": 8,
   "metadata": {},
   "outputs": [
    {
     "name": "stdout",
     "output_type": "stream",
     "text": [
      "(39,)\n",
      "(10,)\n",
      "(39,)\n",
      "(10,)\n"
     ]
    }
   ],
   "source": [
    "np.random.seed(0)\n",
    "train_size = int(len(x) * 0.8)\n",
    "idx = np.random.permutation(len(x))\n",
    "\n",
    "x_train, x_test = x.iloc[idx[:train_size]], x.iloc[idx[train_size:]]\n",
    "y_train, y_test = y.iloc[idx[:train_size]], y.iloc[idx[train_size:]]\n",
    "\n",
    "print(x_train.shape)\n",
    "print(x_test.shape)\n",
    "print(y_train.shape)\n",
    "print(y_test.shape)"
   ]
  },
  {
   "cell_type": "code",
   "execution_count": 9,
   "metadata": {},
   "outputs": [],
   "source": [
    "min_value = x_train.min(axis=0)\n",
    "max_value = x_train.max(axis=0)\n",
    "range_value = max_value - min_value\n",
    "x_train = (x_train - min_value) / range_value"
   ]
  },
  {
   "cell_type": "code",
   "execution_count": 10,
   "metadata": {},
   "outputs": [],
   "source": [
    "x_test = (x_test - min_value) / range_value"
   ]
  },
  {
   "cell_type": "code",
   "execution_count": 11,
   "metadata": {},
   "outputs": [],
   "source": [
    "from itertools import combinations_with_replacement"
   ]
  },
  {
   "cell_type": "code",
   "execution_count": 12,
   "metadata": {},
   "outputs": [],
   "source": [
    "class PolynomialFeatures:\n",
    "    def __init__(self, degree=2):\n",
    "        self.degree = degree\n",
    "\n",
    "    def fit_transform(self, X):\n",
    "        n_samples, n_features = X.shape\n",
    "        features = [np.ones(n_samples)]\n",
    "        for d in range(1, self.degree + 1):\n",
    "            for item in combinations_with_replacement(range(n_features), d):\n",
    "                features.append(np.prod(X[:, item], axis=1))\n",
    "        return np.vstack(features).T\n"
   ]
  },
  {
   "cell_type": "code",
   "execution_count": 13,
   "metadata": {},
   "outputs": [],
   "source": [
    "class LinearRegression:\n",
    "    def __init__(self):\n",
    "        self.coef_ = None\n",
    "        self.intercept_ = None\n",
    "\n",
    "    def fit(self, X, y):\n",
    "        X_b = np.c_[np.ones((X.shape[0], 1)), X]  # add bias term\n",
    "        theta_best = np.linalg.pinv(X_b.T.dot(X_b)).dot(X_b.T).dot(y)\n",
    "        self.intercept_ = theta_best[0]\n",
    "        self.coef_ = theta_best[1:]\n",
    "\n",
    "    def predict(self, X):\n",
    "        return X.dot(self.coef_) + self.intercept_"
   ]
  },
  {
   "cell_type": "code",
   "execution_count": 14,
   "metadata": {},
   "outputs": [],
   "source": [
    "class PolynomialRegression:\n",
    "    def __init__(self, degree=2):\n",
    "        self.degree = degree\n",
    "        self.poly_features = PolynomialFeatures(degree=degree)\n",
    "        self.linear_regression = LinearRegression()\n",
    "\n",
    "    def fit(self, X, y):\n",
    "        if X.ndim == 1:\n",
    "            X = X.values.reshape(-1, 1)\n",
    "        X_poly = self.poly_features.fit_transform(X)\n",
    "        self.linear_regression.fit(X_poly, y)\n",
    "\n",
    "    def predict(self, X):\n",
    "        if X.ndim == 1:\n",
    "            X = X.values.reshape(-1, 1)\n",
    "        X_poly = self.poly_features.fit_transform(X)\n",
    "        return self.linear_regression.predict(X_poly)"
   ]
  },
  {
   "cell_type": "code",
   "execution_count": 15,
   "metadata": {},
   "outputs": [],
   "source": [
    "model = PolynomialRegression(degree=4)"
   ]
  },
  {
   "cell_type": "code",
   "execution_count": 16,
   "metadata": {},
   "outputs": [],
   "source": [
    "model.fit(x_train, y_train)"
   ]
  },
  {
   "cell_type": "code",
   "execution_count": 17,
   "metadata": {},
   "outputs": [],
   "source": [
    "predictions = model.predict(x_test)"
   ]
  },
  {
   "cell_type": "code",
   "execution_count": 18,
   "metadata": {},
   "outputs": [
    {
     "data": {
      "text/plain": [
       "36    0.770585\n",
       "21    0.464719\n",
       "19    0.452160\n",
       "9     0.180593\n",
       "39    0.796198\n",
       "45    0.870331\n",
       "3     0.039813\n",
       "0    -0.037513\n",
       "47    0.916934\n",
       "44    0.860209\n",
       "Name: Temperature (°C), dtype: float64"
      ]
     },
     "execution_count": 18,
     "metadata": {},
     "output_type": "execute_result"
    }
   ],
   "source": [
    "x_test"
   ]
  },
  {
   "cell_type": "code",
   "execution_count": 19,
   "metadata": {},
   "outputs": [
    {
     "data": {
      "text/plain": [
       "array([15.28935743,  1.76950867,  2.01856905, 19.97575317, 17.9742107 ,\n",
       "       26.69919596, 33.7040328 , 40.04892966, 32.72949164, 25.43643228])"
      ]
     },
     "execution_count": 19,
     "metadata": {},
     "output_type": "execute_result"
    }
   ],
   "source": [
    "predictions"
   ]
  },
  {
   "cell_type": "code",
   "execution_count": 20,
   "metadata": {},
   "outputs": [
    {
     "name": "stdout",
     "output_type": "stream",
     "text": [
      "R-Squred: 0.903411879867383\n",
      "Mean Squared Error: 14.672298073555222\n",
      "Mean Absolute Error: 2.9670342394841116\n"
     ]
    }
   ],
   "source": [
    "def evaluate(y_true, y_pred):\n",
    "    r2 = 1 - (np.sum((y_true - y_pred)**2) / np.sum((y_true - y_true.mean())**2))\n",
    "    mse = np.mean((y_true - y_pred)**2)\n",
    "    mae = np.mean(np.abs(y_true - y_pred))\n",
    "    return {'R-Squred': r2, 'Mean Squared Error': mse, 'Mean Absolute Error': mae}\n",
    "\n",
    "for key, value in evaluate(y_test, predictions).items():\n",
    "    print(f'{key}: {value}')"
   ]
  },
  {
   "cell_type": "code",
   "execution_count": 21,
   "metadata": {},
   "outputs": [
    {
     "data": {
      "image/png": "[encoded data removed]",
      "text/plain": [
       "<Figure size 640x480 with 1 Axes>"
      ]
     },
     "metadata": {},
     "output_type": "display_data"
    }
   ],
   "source": [
    "plt.scatter(x_test, y_test, color='blue', label='Original data')\n",
    "plt.plot(np.sort(x_test, axis=0), predictions[np.argsort(x_test, axis=0)], color='red', label=f'Polynomial regression')\n",
    "plt.xlabel('x_test')\n",
    "plt.ylabel('y_test')\n",
    "plt.legend()\n",
    "plt.title('Polynomial Regression')\n",
    "plt.show()"
   ]
  },
  {
   "cell_type": "code",
   "execution_count": 22,
   "metadata": {},
   "outputs": [
    {
     "data": {
      "text/plain": [
       "(49, 2)"
      ]
     },
     "execution_count": 22,
     "metadata": {},
     "output_type": "execute_result"
    }
   ],
   "source": [
    "df.shape"
   ]
  },
  {
   "cell_type": "code",
   "execution_count": 23,
   "metadata": {},
   "outputs": [
    {
     "data": {
      "text/html": [
       "<div>\n",
       "<style scoped>\n",
       "    .dataframe tbody tr th:only-of-type {\n",
       "        vertical-align: middle;\n",
       "    }\n",
       "\n",
       "    .dataframe tbody tr th {\n",
       "        vertical-align: top;\n",
       "    }\n",
       "\n",
       "    .dataframe thead th {\n",
       "        text-align: right;\n",
       "    }\n",
       "</style>\n",
       "<table border=\"1\" class=\"dataframe\">\n",
       "  <thead>\n",
       "    <tr style=\"text-align: right;\">\n",
       "      <th></th>\n",
       "      <th>Temperature (°C)</th>\n",
       "      <th>Ice Cream Sales (units)</th>\n",
       "    </tr>\n",
       "  </thead>\n",
       "  <tbody>\n",
       "    <tr>\n",
       "      <th>0</th>\n",
       "      <td>-4.662263</td>\n",
       "      <td>41.842986</td>\n",
       "    </tr>\n",
       "    <tr>\n",
       "      <th>1</th>\n",
       "      <td>-4.316559</td>\n",
       "      <td>34.661120</td>\n",
       "    </tr>\n",
       "    <tr>\n",
       "      <th>2</th>\n",
       "      <td>-4.213985</td>\n",
       "      <td>39.383001</td>\n",
       "    </tr>\n",
       "    <tr>\n",
       "      <th>3</th>\n",
       "      <td>-3.949661</td>\n",
       "      <td>37.539845</td>\n",
       "    </tr>\n",
       "    <tr>\n",
       "      <th>4</th>\n",
       "      <td>-3.578554</td>\n",
       "      <td>32.284531</td>\n",
       "    </tr>\n",
       "    <tr>\n",
       "      <th>5</th>\n",
       "      <td>-3.455712</td>\n",
       "      <td>30.001138</td>\n",
       "    </tr>\n",
       "    <tr>\n",
       "      <th>6</th>\n",
       "      <td>-3.108440</td>\n",
       "      <td>22.635401</td>\n",
       "    </tr>\n",
       "    <tr>\n",
       "      <th>7</th>\n",
       "      <td>-3.081303</td>\n",
       "      <td>25.365022</td>\n",
       "    </tr>\n",
       "    <tr>\n",
       "      <th>8</th>\n",
       "      <td>-2.672461</td>\n",
       "      <td>19.226970</td>\n",
       "    </tr>\n",
       "    <tr>\n",
       "      <th>9</th>\n",
       "      <td>-2.652287</td>\n",
       "      <td>20.279679</td>\n",
       "    </tr>\n",
       "    <tr>\n",
       "      <th>10</th>\n",
       "      <td>-2.651498</td>\n",
       "      <td>13.275828</td>\n",
       "    </tr>\n",
       "    <tr>\n",
       "      <th>11</th>\n",
       "      <td>-2.288264</td>\n",
       "      <td>18.123991</td>\n",
       "    </tr>\n",
       "    <tr>\n",
       "      <th>12</th>\n",
       "      <td>-2.111870</td>\n",
       "      <td>11.218294</td>\n",
       "    </tr>\n",
       "    <tr>\n",
       "      <th>13</th>\n",
       "      <td>-1.818938</td>\n",
       "      <td>10.012868</td>\n",
       "    </tr>\n",
       "    <tr>\n",
       "      <th>14</th>\n",
       "      <td>-1.660348</td>\n",
       "      <td>12.615181</td>\n",
       "    </tr>\n",
       "    <tr>\n",
       "      <th>15</th>\n",
       "      <td>-1.326379</td>\n",
       "      <td>10.957731</td>\n",
       "    </tr>\n",
       "    <tr>\n",
       "      <th>16</th>\n",
       "      <td>-1.173123</td>\n",
       "      <td>6.689123</td>\n",
       "    </tr>\n",
       "    <tr>\n",
       "      <th>17</th>\n",
       "      <td>-0.773330</td>\n",
       "      <td>9.392969</td>\n",
       "    </tr>\n",
       "    <tr>\n",
       "      <th>18</th>\n",
       "      <td>-0.673753</td>\n",
       "      <td>5.210163</td>\n",
       "    </tr>\n",
       "    <tr>\n",
       "      <th>19</th>\n",
       "      <td>-0.149635</td>\n",
       "      <td>4.673643</td>\n",
       "    </tr>\n",
       "    <tr>\n",
       "      <th>20</th>\n",
       "      <td>-0.036156</td>\n",
       "      <td>0.328626</td>\n",
       "    </tr>\n",
       "    <tr>\n",
       "      <th>21</th>\n",
       "      <td>-0.033895</td>\n",
       "      <td>0.897603</td>\n",
       "    </tr>\n",
       "    <tr>\n",
       "      <th>22</th>\n",
       "      <td>0.008608</td>\n",
       "      <td>3.165600</td>\n",
       "    </tr>\n",
       "    <tr>\n",
       "      <th>23</th>\n",
       "      <td>0.149245</td>\n",
       "      <td>1.931416</td>\n",
       "    </tr>\n",
       "    <tr>\n",
       "      <th>24</th>\n",
       "      <td>0.688781</td>\n",
       "      <td>2.576782</td>\n",
       "    </tr>\n",
       "    <tr>\n",
       "      <th>25</th>\n",
       "      <td>0.693599</td>\n",
       "      <td>4.625689</td>\n",
       "    </tr>\n",
       "    <tr>\n",
       "      <th>26</th>\n",
       "      <td>0.874905</td>\n",
       "      <td>0.789974</td>\n",
       "    </tr>\n",
       "    <tr>\n",
       "      <th>27</th>\n",
       "      <td>1.024181</td>\n",
       "      <td>2.313806</td>\n",
       "    </tr>\n",
       "    <tr>\n",
       "      <th>28</th>\n",
       "      <td>1.240712</td>\n",
       "      <td>1.292361</td>\n",
       "    </tr>\n",
       "    <tr>\n",
       "      <th>29</th>\n",
       "      <td>1.359813</td>\n",
       "      <td>0.953115</td>\n",
       "    </tr>\n",
       "    <tr>\n",
       "      <th>30</th>\n",
       "      <td>1.740000</td>\n",
       "      <td>3.782570</td>\n",
       "    </tr>\n",
       "    <tr>\n",
       "      <th>31</th>\n",
       "      <td>1.850552</td>\n",
       "      <td>4.857988</td>\n",
       "    </tr>\n",
       "    <tr>\n",
       "      <th>32</th>\n",
       "      <td>1.999310</td>\n",
       "      <td>8.943823</td>\n",
       "    </tr>\n",
       "    <tr>\n",
       "      <th>33</th>\n",
       "      <td>2.075101</td>\n",
       "      <td>8.170735</td>\n",
       "    </tr>\n",
       "    <tr>\n",
       "      <th>34</th>\n",
       "      <td>2.318591</td>\n",
       "      <td>7.412094</td>\n",
       "    </tr>\n",
       "    <tr>\n",
       "      <th>35</th>\n",
       "      <td>2.471946</td>\n",
       "      <td>10.336631</td>\n",
       "    </tr>\n",
       "    <tr>\n",
       "      <th>36</th>\n",
       "      <td>2.784836</td>\n",
       "      <td>15.996620</td>\n",
       "    </tr>\n",
       "    <tr>\n",
       "      <th>37</th>\n",
       "      <td>2.831760</td>\n",
       "      <td>12.568237</td>\n",
       "    </tr>\n",
       "    <tr>\n",
       "      <th>38</th>\n",
       "      <td>2.959932</td>\n",
       "      <td>21.342916</td>\n",
       "    </tr>\n",
       "    <tr>\n",
       "      <th>39</th>\n",
       "      <td>3.020874</td>\n",
       "      <td>20.114413</td>\n",
       "    </tr>\n",
       "    <tr>\n",
       "      <th>40</th>\n",
       "      <td>3.211366</td>\n",
       "      <td>22.839406</td>\n",
       "    </tr>\n",
       "    <tr>\n",
       "      <th>41</th>\n",
       "      <td>3.270044</td>\n",
       "      <td>16.983279</td>\n",
       "    </tr>\n",
       "    <tr>\n",
       "      <th>42</th>\n",
       "      <td>3.316073</td>\n",
       "      <td>25.142082</td>\n",
       "    </tr>\n",
       "    <tr>\n",
       "      <th>43</th>\n",
       "      <td>3.335932</td>\n",
       "      <td>26.104740</td>\n",
       "    </tr>\n",
       "    <tr>\n",
       "      <th>44</th>\n",
       "      <td>3.610778</td>\n",
       "      <td>28.912188</td>\n",
       "    </tr>\n",
       "    <tr>\n",
       "      <th>45</th>\n",
       "      <td>3.704057</td>\n",
       "      <td>17.843957</td>\n",
       "    </tr>\n",
       "    <tr>\n",
       "      <th>46</th>\n",
       "      <td>4.130868</td>\n",
       "      <td>34.530743</td>\n",
       "    </tr>\n",
       "    <tr>\n",
       "      <th>47</th>\n",
       "      <td>4.133534</td>\n",
       "      <td>27.698383</td>\n",
       "    </tr>\n",
       "    <tr>\n",
       "      <th>48</th>\n",
       "      <td>4.899032</td>\n",
       "      <td>41.514822</td>\n",
       "    </tr>\n",
       "  </tbody>\n",
       "</table>\n",
       "</div>"
      ],
      "text/plain": [
       "    Temperature (°C)  Ice Cream Sales (units)\n",
       "0          -4.662263                41.842986\n",
       "1          -4.316559                34.661120\n",
       "2          -4.213985                39.383001\n",
       "3          -3.949661                37.539845\n",
       "4          -3.578554                32.284531\n",
       "5          -3.455712                30.001138\n",
       "6          -3.108440                22.635401\n",
       "7          -3.081303                25.365022\n",
       "8          -2.672461                19.226970\n",
       "9          -2.652287                20.279679\n",
       "10         -2.651498                13.275828\n",
       "11         -2.288264                18.123991\n",
       "12         -2.111870                11.218294\n",
       "13         -1.818938                10.012868\n",
       "14         -1.660348                12.615181\n",
       "15         -1.326379                10.957731\n",
       "16         -1.173123                 6.689123\n",
       "17         -0.773330                 9.392969\n",
       "18         -0.673753                 5.210163\n",
       "19         -0.149635                 4.673643\n",
       "20         -0.036156                 0.328626\n",
       "21         -0.033895                 0.897603\n",
       "22          0.008608                 3.165600\n",
       "23          0.149245                 1.931416\n",
       "24          0.688781                 2.576782\n",
       "25          0.693599                 4.625689\n",
       "26          0.874905                 0.789974\n",
       "27          1.024181                 2.313806\n",
       "28          1.240712                 1.292361\n",
       "29          1.359813                 0.953115\n",
       "30          1.740000                 3.782570\n",
       "31          1.850552                 4.857988\n",
       "32          1.999310                 8.943823\n",
       "33          2.075101                 8.170735\n",
       "34          2.318591                 7.412094\n",
       "35          2.471946                10.336631\n",
       "36          2.784836                15.996620\n",
       "37          2.831760                12.568237\n",
       "38          2.959932                21.342916\n",
       "39          3.020874                20.114413\n",
       "40          3.211366                22.839406\n",
       "41          3.270044                16.983279\n",
       "42          3.316073                25.142082\n",
       "43          3.335932                26.104740\n",
       "44          3.610778                28.912188\n",
       "45          3.704057                17.843957\n",
       "46          4.130868                34.530743\n",
       "47          4.133534                27.698383\n",
       "48          4.899032                41.514822"
      ]
     },
     "execution_count": 23,
     "metadata": {},
     "output_type": "execute_result"
    }
   ],
   "source": [
    "df"
   ]
  },
  {
   "cell_type": "code",
   "execution_count": null,
   "metadata": {},
   "outputs": [],
   "source": []
  }
 ],
 "metadata": {
  "kernelspec": {
   "display_name": "Python 3",
   "language": "python",
   "name": "python3"
  },
  "language_info": {
   "codemirror_mode": {
    "name": "ipython",
    "version": 3
   },
   "file_extension": ".py",
   "mimetype": "text/x-python",
   "name": "python",
   "nbconvert_exporter": "python",
   "pygments_lexer": "ipython3",
   "version": "3.13.0"
  }
 },
 "nbformat": 4,
 "nbformat_minor": 2
}
