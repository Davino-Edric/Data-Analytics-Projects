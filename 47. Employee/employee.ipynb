{
 "cells": [
  {
   "cell_type": "code",
   "execution_count": 1,
   "metadata": {},
   "outputs": [],
   "source": [
    "import pandas as pd \n",
    "import numpy as np \n",
    "import seaborn as sns \n",
    "import matplotlib.pyplot as plt "
   ]
  },
  {
   "cell_type": "code",
   "execution_count": 4,
   "metadata": {},
   "outputs": [
    {
     "data": {
      "text/html": [
       "<div>\n",
       "<style scoped>\n",
       "    .dataframe tbody tr th:only-of-type {\n",
       "        vertical-align: middle;\n",
       "    }\n",
       "\n",
       "    .dataframe tbody tr th {\n",
       "        vertical-align: top;\n",
       "    }\n",
       "\n",
       "    .dataframe thead th {\n",
       "        text-align: right;\n",
       "    }\n",
       "</style>\n",
       "<table border=\"1\" class=\"dataframe\">\n",
       "  <thead>\n",
       "    <tr style=\"text-align: right;\">\n",
       "      <th></th>\n",
       "      <th>Index</th>\n",
       "      <th>First Name</th>\n",
       "      <th>Last Name</th>\n",
       "      <th>Sex</th>\n",
       "      <th>Email</th>\n",
       "      <th>Phone</th>\n",
       "      <th>Date of birth</th>\n",
       "      <th>Job Title</th>\n",
       "    </tr>\n",
       "  </thead>\n",
       "  <tbody>\n",
       "    <tr>\n",
       "      <th>0</th>\n",
       "      <td>1</td>\n",
       "      <td>Sara</td>\n",
       "      <td>Mcguire</td>\n",
       "      <td>Female</td>\n",
       "      <td>tsharp@example.net</td>\n",
       "      <td>(971)643-6089x9160</td>\n",
       "      <td>17-08-21</td>\n",
       "      <td>Editor, commissioning</td>\n",
       "    </tr>\n",
       "    <tr>\n",
       "      <th>1</th>\n",
       "      <td>2</td>\n",
       "      <td>Alisha</td>\n",
       "      <td>Hebert</td>\n",
       "      <td>Male</td>\n",
       "      <td>vincentgarrett@example.net</td>\n",
       "      <td>+1-114-355-1841x78347</td>\n",
       "      <td>28-06-69</td>\n",
       "      <td>Broadcast engineer</td>\n",
       "    </tr>\n",
       "    <tr>\n",
       "      <th>2</th>\n",
       "      <td>3</td>\n",
       "      <td>Gwendolyn</td>\n",
       "      <td>Sheppard</td>\n",
       "      <td>Male</td>\n",
       "      <td>mercadojonathan@example.com</td>\n",
       "      <td>9017807728</td>\n",
       "      <td>25-09-15</td>\n",
       "      <td>Industrial buyer</td>\n",
       "    </tr>\n",
       "    <tr>\n",
       "      <th>3</th>\n",
       "      <td>4</td>\n",
       "      <td>Kristine</td>\n",
       "      <td>Mccann</td>\n",
       "      <td>Female</td>\n",
       "      <td>lindsay55@example.com</td>\n",
       "      <td>+1-607-333-9911x59088</td>\n",
       "      <td>27-07-78</td>\n",
       "      <td>Multimedia specialist</td>\n",
       "    </tr>\n",
       "    <tr>\n",
       "      <th>4</th>\n",
       "      <td>5</td>\n",
       "      <td>Bobby</td>\n",
       "      <td>Pittman</td>\n",
       "      <td>Female</td>\n",
       "      <td>blevinsmorgan@example.com</td>\n",
       "      <td>3739847538</td>\n",
       "      <td>17-11-89</td>\n",
       "      <td>Planning and development surveyor</td>\n",
       "    </tr>\n",
       "  </tbody>\n",
       "</table>\n",
       "</div>"
      ],
      "text/plain": [
       "   Index First Name Last Name     Sex                        Email  \\\n",
       "0      1       Sara   Mcguire  Female           tsharp@example.net   \n",
       "1      2     Alisha    Hebert    Male   vincentgarrett@example.net   \n",
       "2      3  Gwendolyn  Sheppard    Male  mercadojonathan@example.com   \n",
       "3      4   Kristine    Mccann  Female        lindsay55@example.com   \n",
       "4      5      Bobby   Pittman  Female    blevinsmorgan@example.com   \n",
       "\n",
       "                   Phone Date of birth                          Job Title  \n",
       "0     (971)643-6089x9160      17-08-21              Editor, commissioning  \n",
       "1  +1-114-355-1841x78347      28-06-69                 Broadcast engineer  \n",
       "2             9017807728      25-09-15                   Industrial buyer  \n",
       "3  +1-607-333-9911x59088      27-07-78              Multimedia specialist  \n",
       "4             3739847538      17-11-89  Planning and development surveyor  "
      ]
     },
     "execution_count": 4,
     "metadata": {},
     "output_type": "execute_result"
    }
   ],
   "source": [
    "df = pd.read_csv(\"Employee 1000x.csv\")\n",
    "df.head()"
   ]
  },
  {
   "cell_type": "code",
   "execution_count": 8,
   "metadata": {},
   "outputs": [],
   "source": [
    "df.drop(columns='Index',inplace=True)"
   ]
  },
  {
   "cell_type": "code",
   "execution_count": 5,
   "metadata": {},
   "outputs": [
    {
     "name": "stdout",
     "output_type": "stream",
     "text": [
      "<class 'pandas.core.frame.DataFrame'>\n",
      "RangeIndex: 10000 entries, 0 to 9999\n",
      "Data columns (total 8 columns):\n",
      " #   Column         Non-Null Count  Dtype \n",
      "---  ------         --------------  ----- \n",
      " 0   Index          10000 non-null  int64 \n",
      " 1   First Name     10000 non-null  object\n",
      " 2   Last Name      10000 non-null  object\n",
      " 3   Sex            10000 non-null  object\n",
      " 4   Email          10000 non-null  object\n",
      " 5   Phone          10000 non-null  object\n",
      " 6   Date of birth  10000 non-null  object\n",
      " 7   Job Title      10000 non-null  object\n",
      "dtypes: int64(1), object(7)\n",
      "memory usage: 625.1+ KB\n"
     ]
    }
   ],
   "source": [
    "df.info()"
   ]
  },
  {
   "cell_type": "code",
   "execution_count": 6,
   "metadata": {},
   "outputs": [
    {
     "data": {
      "text/html": [
       "<div>\n",
       "<style scoped>\n",
       "    .dataframe tbody tr th:only-of-type {\n",
       "        vertical-align: middle;\n",
       "    }\n",
       "\n",
       "    .dataframe tbody tr th {\n",
       "        vertical-align: top;\n",
       "    }\n",
       "\n",
       "    .dataframe thead th {\n",
       "        text-align: right;\n",
       "    }\n",
       "</style>\n",
       "<table border=\"1\" class=\"dataframe\">\n",
       "  <thead>\n",
       "    <tr style=\"text-align: right;\">\n",
       "      <th></th>\n",
       "      <th>Index</th>\n",
       "    </tr>\n",
       "  </thead>\n",
       "  <tbody>\n",
       "    <tr>\n",
       "      <th>count</th>\n",
       "      <td>10000.00000</td>\n",
       "    </tr>\n",
       "    <tr>\n",
       "      <th>mean</th>\n",
       "      <td>5000.50000</td>\n",
       "    </tr>\n",
       "    <tr>\n",
       "      <th>std</th>\n",
       "      <td>2886.89568</td>\n",
       "    </tr>\n",
       "    <tr>\n",
       "      <th>min</th>\n",
       "      <td>1.00000</td>\n",
       "    </tr>\n",
       "    <tr>\n",
       "      <th>25%</th>\n",
       "      <td>2500.75000</td>\n",
       "    </tr>\n",
       "    <tr>\n",
       "      <th>50%</th>\n",
       "      <td>5000.50000</td>\n",
       "    </tr>\n",
       "    <tr>\n",
       "      <th>75%</th>\n",
       "      <td>7500.25000</td>\n",
       "    </tr>\n",
       "    <tr>\n",
       "      <th>max</th>\n",
       "      <td>10000.00000</td>\n",
       "    </tr>\n",
       "  </tbody>\n",
       "</table>\n",
       "</div>"
      ],
      "text/plain": [
       "             Index\n",
       "count  10000.00000\n",
       "mean    5000.50000\n",
       "std     2886.89568\n",
       "min        1.00000\n",
       "25%     2500.75000\n",
       "50%     5000.50000\n",
       "75%     7500.25000\n",
       "max    10000.00000"
      ]
     },
     "execution_count": 6,
     "metadata": {},
     "output_type": "execute_result"
    }
   ],
   "source": [
    "df.describe()"
   ]
  },
  {
   "cell_type": "code",
   "execution_count": null,
   "metadata": {},
   "outputs": [],
   "source": []
  }
 ],
 "metadata": {
  "kernelspec": {
   "display_name": "Python 3",
   "language": "python",
   "name": "python3"
  },
  "language_info": {
   "codemirror_mode": {
    "name": "ipython",
    "version": 3
   },
   "file_extension": ".py",
   "mimetype": "text/x-python",
   "name": "python",
   "nbconvert_exporter": "python",
   "pygments_lexer": "ipython3",
   "version": "3.12.7"
  }
 },
 "nbformat": 4,
 "nbformat_minor": 2
}
