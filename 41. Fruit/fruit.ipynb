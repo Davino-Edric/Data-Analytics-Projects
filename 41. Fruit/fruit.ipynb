{
 "cells": [
  {
   "cell_type": "markdown",
   "metadata": {},
   "source": [
    "**Sekolah = SMK Negeri 1 Surabaya**\n",
    "\n",
    "**Nama Peserta = M. Shofian Najib & Davino Edric F.**\n",
    "\n",
    "**No. Peserta =**"
   ]
  },
  {
   "cell_type": "markdown",
   "metadata": {},
   "source": [
    "# 1. Import dan EDA"
   ]
  },
  {
   "cell_type": "code",
   "execution_count": 180,
   "metadata": {},
   "outputs": [],
   "source": [
    "import pandas as pd \n",
    "import numpy as np \n",
    "import seaborn as sns \n",
    "import matplotlib.pyplot as plt"
   ]
  },
  {
   "cell_type": "code",
   "execution_count": 181,
   "metadata": {},
   "outputs": [
    {
     "data": {
      "text/html": [
       "<div>\n",
       "<style scoped>\n",
       "    .dataframe tbody tr th:only-of-type {\n",
       "        vertical-align: middle;\n",
       "    }\n",
       "\n",
       "    .dataframe tbody tr th {\n",
       "        vertical-align: top;\n",
       "    }\n",
       "\n",
       "    .dataframe thead th {\n",
       "        text-align: right;\n",
       "    }\n",
       "</style>\n",
       "<table border=\"1\" class=\"dataframe\">\n",
       "  <thead>\n",
       "    <tr style=\"text-align: right;\">\n",
       "      <th></th>\n",
       "      <th>fruit_label</th>\n",
       "      <th>fruit_name</th>\n",
       "      <th>fruit_subtype</th>\n",
       "      <th>mass</th>\n",
       "      <th>width</th>\n",
       "      <th>height</th>\n",
       "      <th>color_score</th>\n",
       "    </tr>\n",
       "  </thead>\n",
       "  <tbody>\n",
       "    <tr>\n",
       "      <th>0</th>\n",
       "      <td>1</td>\n",
       "      <td>apple</td>\n",
       "      <td>granny_smith</td>\n",
       "      <td>192</td>\n",
       "      <td>8.4</td>\n",
       "      <td>7.3</td>\n",
       "      <td>0.55</td>\n",
       "    </tr>\n",
       "    <tr>\n",
       "      <th>1</th>\n",
       "      <td>1</td>\n",
       "      <td>apple</td>\n",
       "      <td>granny_smith</td>\n",
       "      <td>180</td>\n",
       "      <td>8.0</td>\n",
       "      <td>6.8</td>\n",
       "      <td>0.59</td>\n",
       "    </tr>\n",
       "    <tr>\n",
       "      <th>2</th>\n",
       "      <td>1</td>\n",
       "      <td>apple</td>\n",
       "      <td>granny_smith</td>\n",
       "      <td>176</td>\n",
       "      <td>7.4</td>\n",
       "      <td>7.2</td>\n",
       "      <td>0.60</td>\n",
       "    </tr>\n",
       "    <tr>\n",
       "      <th>3</th>\n",
       "      <td>2</td>\n",
       "      <td>mandarin</td>\n",
       "      <td>mandarin</td>\n",
       "      <td>86</td>\n",
       "      <td>6.2</td>\n",
       "      <td>4.7</td>\n",
       "      <td>0.80</td>\n",
       "    </tr>\n",
       "    <tr>\n",
       "      <th>4</th>\n",
       "      <td>2</td>\n",
       "      <td>mandarin</td>\n",
       "      <td>mandarin</td>\n",
       "      <td>84</td>\n",
       "      <td>6.0</td>\n",
       "      <td>4.6</td>\n",
       "      <td>0.79</td>\n",
       "    </tr>\n",
       "  </tbody>\n",
       "</table>\n",
       "</div>"
      ],
      "text/plain": [
       "   fruit_label fruit_name fruit_subtype  mass  width  height  color_score\n",
       "0            1      apple  granny_smith   192    8.4     7.3         0.55\n",
       "1            1      apple  granny_smith   180    8.0     6.8         0.59\n",
       "2            1      apple  granny_smith   176    7.4     7.2         0.60\n",
       "3            2   mandarin      mandarin    86    6.2     4.7         0.80\n",
       "4            2   mandarin      mandarin    84    6.0     4.6         0.79"
      ]
     },
     "execution_count": 181,
     "metadata": {},
     "output_type": "execute_result"
    }
   ],
   "source": [
    "df = pd.read_csv('fruit_data_with_colors.txt', sep=\"\\t\")\n",
    "df.head()"
   ]
  },
  {
   "cell_type": "code",
   "execution_count": 182,
   "metadata": {},
   "outputs": [
    {
     "name": "stdout",
     "output_type": "stream",
     "text": [
      "<class 'pandas.core.frame.DataFrame'>\n",
      "RangeIndex: 59 entries, 0 to 58\n",
      "Data columns (total 7 columns):\n",
      " #   Column         Non-Null Count  Dtype  \n",
      "---  ------         --------------  -----  \n",
      " 0   fruit_label    59 non-null     int64  \n",
      " 1   fruit_name     59 non-null     object \n",
      " 2   fruit_subtype  59 non-null     object \n",
      " 3   mass           59 non-null     int64  \n",
      " 4   width          59 non-null     float64\n",
      " 5   height         59 non-null     float64\n",
      " 6   color_score    59 non-null     float64\n",
      "dtypes: float64(3), int64(2), object(2)\n",
      "memory usage: 3.4+ KB\n"
     ]
    }
   ],
   "source": [
    "df.info()"
   ]
  },
  {
   "cell_type": "code",
   "execution_count": 183,
   "metadata": {},
   "outputs": [
    {
     "data": {
      "text/html": [
       "<div>\n",
       "<style scoped>\n",
       "    .dataframe tbody tr th:only-of-type {\n",
       "        vertical-align: middle;\n",
       "    }\n",
       "\n",
       "    .dataframe tbody tr th {\n",
       "        vertical-align: top;\n",
       "    }\n",
       "\n",
       "    .dataframe thead th {\n",
       "        text-align: right;\n",
       "    }\n",
       "</style>\n",
       "<table border=\"1\" class=\"dataframe\">\n",
       "  <thead>\n",
       "    <tr style=\"text-align: right;\">\n",
       "      <th></th>\n",
       "      <th>fruit_label</th>\n",
       "      <th>mass</th>\n",
       "      <th>width</th>\n",
       "      <th>height</th>\n",
       "      <th>color_score</th>\n",
       "    </tr>\n",
       "  </thead>\n",
       "  <tbody>\n",
       "    <tr>\n",
       "      <th>count</th>\n",
       "      <td>59.000000</td>\n",
       "      <td>59.000000</td>\n",
       "      <td>59.000000</td>\n",
       "      <td>59.000000</td>\n",
       "      <td>59.000000</td>\n",
       "    </tr>\n",
       "    <tr>\n",
       "      <th>mean</th>\n",
       "      <td>2.542373</td>\n",
       "      <td>163.118644</td>\n",
       "      <td>7.105085</td>\n",
       "      <td>7.693220</td>\n",
       "      <td>0.762881</td>\n",
       "    </tr>\n",
       "    <tr>\n",
       "      <th>std</th>\n",
       "      <td>1.208048</td>\n",
       "      <td>55.018832</td>\n",
       "      <td>0.816938</td>\n",
       "      <td>1.361017</td>\n",
       "      <td>0.076857</td>\n",
       "    </tr>\n",
       "    <tr>\n",
       "      <th>min</th>\n",
       "      <td>1.000000</td>\n",
       "      <td>76.000000</td>\n",
       "      <td>5.800000</td>\n",
       "      <td>4.000000</td>\n",
       "      <td>0.550000</td>\n",
       "    </tr>\n",
       "    <tr>\n",
       "      <th>25%</th>\n",
       "      <td>1.000000</td>\n",
       "      <td>140.000000</td>\n",
       "      <td>6.600000</td>\n",
       "      <td>7.200000</td>\n",
       "      <td>0.720000</td>\n",
       "    </tr>\n",
       "    <tr>\n",
       "      <th>50%</th>\n",
       "      <td>3.000000</td>\n",
       "      <td>158.000000</td>\n",
       "      <td>7.200000</td>\n",
       "      <td>7.600000</td>\n",
       "      <td>0.750000</td>\n",
       "    </tr>\n",
       "    <tr>\n",
       "      <th>75%</th>\n",
       "      <td>4.000000</td>\n",
       "      <td>177.000000</td>\n",
       "      <td>7.500000</td>\n",
       "      <td>8.200000</td>\n",
       "      <td>0.810000</td>\n",
       "    </tr>\n",
       "    <tr>\n",
       "      <th>max</th>\n",
       "      <td>4.000000</td>\n",
       "      <td>362.000000</td>\n",
       "      <td>9.600000</td>\n",
       "      <td>10.500000</td>\n",
       "      <td>0.930000</td>\n",
       "    </tr>\n",
       "  </tbody>\n",
       "</table>\n",
       "</div>"
      ],
      "text/plain": [
       "       fruit_label        mass      width     height  color_score\n",
       "count    59.000000   59.000000  59.000000  59.000000    59.000000\n",
       "mean      2.542373  163.118644   7.105085   7.693220     0.762881\n",
       "std       1.208048   55.018832   0.816938   1.361017     0.076857\n",
       "min       1.000000   76.000000   5.800000   4.000000     0.550000\n",
       "25%       1.000000  140.000000   6.600000   7.200000     0.720000\n",
       "50%       3.000000  158.000000   7.200000   7.600000     0.750000\n",
       "75%       4.000000  177.000000   7.500000   8.200000     0.810000\n",
       "max       4.000000  362.000000   9.600000  10.500000     0.930000"
      ]
     },
     "execution_count": 183,
     "metadata": {},
     "output_type": "execute_result"
    }
   ],
   "source": [
    "df.describe()"
   ]
  },
  {
   "cell_type": "code",
   "execution_count": 184,
   "metadata": {},
   "outputs": [
    {
     "data": {
      "text/plain": [
       "np.int64(0)"
      ]
     },
     "execution_count": 184,
     "metadata": {},
     "output_type": "execute_result"
    }
   ],
   "source": [
    "df.duplicated().sum()"
   ]
  },
  {
   "cell_type": "markdown",
   "metadata": {},
   "source": [
    "## 1.1 Visualisasi distribusi buah"
   ]
  },
  {
   "cell_type": "code",
   "execution_count": 185,
   "metadata": {},
   "outputs": [
    {
     "data": {
      "image/png": "[encoded data removed]",
      "text/plain": [
       "<Figure size 640x480 with 1 Axes>"
      ]
     },
     "metadata": {},
     "output_type": "display_data"
    }
   ],
   "source": [
    "sns.countplot(x=df['fruit_name'], hue=df['fruit_name'])\n",
    "plt.show()"
   ]
  },
  {
   "cell_type": "markdown",
   "metadata": {},
   "source": [
    "## 1.2 Visualisasi Scatterplot antar kolom"
   ]
  },
  {
   "cell_type": "code",
   "execution_count": 186,
   "metadata": {},
   "outputs": [
    {
     "data": {
      "image/png": "[encoded data removed]",
      "text/plain": [
       "<Figure size 1250x1250 with 30 Axes>"
      ]
     },
     "metadata": {},
     "output_type": "display_data"
    }
   ],
   "source": [
    "sns.pairplot(df)\n",
    "plt.show()"
   ]
  },
  {
   "cell_type": "markdown",
   "metadata": {},
   "source": [
    "Insight: Non linear pattern, clustered pattern"
   ]
  },
  {
   "cell_type": "markdown",
   "metadata": {},
   "source": [
    "## 1.3 Pengecekan distribusi color score untuk tiap buah"
   ]
  },
  {
   "cell_type": "code",
   "execution_count": 187,
   "metadata": {},
   "outputs": [
    {
     "data": {
      "image/png": "[encoded data removed]",
      "text/plain": [
       "<Figure size 640x480 with 1 Axes>"
      ]
     },
     "metadata": {},
     "output_type": "display_data"
    }
   ],
   "source": [
    "sns.histplot(x=df['color_score'], hue=df['fruit_name'])\n",
    "plt.show()"
   ]
  },
  {
   "cell_type": "markdown",
   "metadata": {},
   "source": [
    "## 1.4 Pengecekan korelasi menggunakan heatmap dengan metode spearman (non-linear)"
   ]
  },
  {
   "cell_type": "code",
   "execution_count": 188,
   "metadata": {},
   "outputs": [],
   "source": [
    "dfn = df.drop(columns=['fruit_name','fruit_subtype'])"
   ]
  },
  {
   "cell_type": "code",
   "execution_count": 189,
   "metadata": {},
   "outputs": [
    {
     "data": {
      "image/png": "[encoded data removed]",
      "text/plain": [
       "<Figure size 640x480 with 2 Axes>"
      ]
     },
     "metadata": {},
     "output_type": "display_data"
    }
   ],
   "source": [
    "sns.heatmap(dfn.corr('spearman'), annot=True,cmap='coolwarm')\n",
    "plt.show()"
   ]
  },
  {
   "cell_type": "markdown",
   "metadata": {},
   "source": [
    "## 1.5 Pengecekan hubungan antara Sub tipe buah dengan tiap buah"
   ]
  },
  {
   "cell_type": "markdown",
   "metadata": {},
   "source": [
    "### **Pengecekan nilai unik sub tipe dan jumlahnya**"
   ]
  },
  {
   "cell_type": "code",
   "execution_count": 190,
   "metadata": {},
   "outputs": [
    {
     "data": {
      "text/plain": [
       "fruit_subtype\n",
       "turkey_navel        10\n",
       "unknown             10\n",
       "spanish_belsan       6\n",
       "selected_seconds     6\n",
       "cripps_pink          6\n",
       "mandarin             5\n",
       "golden_delicious     5\n",
       "braeburn             5\n",
       "granny_smith         3\n",
       "spanish_jumbo        3\n",
       "Name: count, dtype: int64"
      ]
     },
     "execution_count": 190,
     "metadata": {},
     "output_type": "execute_result"
    }
   ],
   "source": [
    "df['fruit_subtype'].value_counts()"
   ]
  },
  {
   "cell_type": "markdown",
   "metadata": {},
   "source": [
    "Insight: Sub Tipe buah merupakan brand produsen buah tersebut"
   ]
  },
  {
   "cell_type": "markdown",
   "metadata": {},
   "source": [
    "### **Pengecekan hubungan antara Sub tipe buah dengan tiap buah**"
   ]
  },
  {
   "cell_type": "code",
   "execution_count": 191,
   "metadata": {},
   "outputs": [
    {
     "data": {
      "image/png": "[encoded data removed]",
      "text/plain": [
       "<Figure size 2000x1200 with 1 Axes>"
      ]
     },
     "metadata": {},
     "output_type": "display_data"
    }
   ],
   "source": [
    "plt.figure(figsize=(20,12))\n",
    "sns.countplot(x=df['fruit_name'],hue=df['fruit_subtype'])\n",
    "plt.show()"
   ]
  },
  {
   "cell_type": "markdown",
   "metadata": {},
   "source": [
    "### **Melakukan groupby untuk mengecek produsen terumum serta kesimpulan statistik tiap buah**"
   ]
  },
  {
   "cell_type": "code",
   "execution_count": 192,
   "metadata": {},
   "outputs": [
    {
     "data": {
      "text/html": [
       "<div>\n",
       "<style scoped>\n",
       "    .dataframe tbody tr th:only-of-type {\n",
       "        vertical-align: middle;\n",
       "    }\n",
       "\n",
       "    .dataframe tbody tr th {\n",
       "        vertical-align: top;\n",
       "    }\n",
       "\n",
       "    .dataframe thead th {\n",
       "        text-align: right;\n",
       "    }\n",
       "</style>\n",
       "<table border=\"1\" class=\"dataframe\">\n",
       "  <thead>\n",
       "    <tr style=\"text-align: right;\">\n",
       "      <th></th>\n",
       "      <th>count</th>\n",
       "      <th>unique</th>\n",
       "      <th>top</th>\n",
       "      <th>freq</th>\n",
       "    </tr>\n",
       "    <tr>\n",
       "      <th>fruit_name</th>\n",
       "      <th></th>\n",
       "      <th></th>\n",
       "      <th></th>\n",
       "      <th></th>\n",
       "    </tr>\n",
       "  </thead>\n",
       "  <tbody>\n",
       "    <tr>\n",
       "      <th>apple</th>\n",
       "      <td>19</td>\n",
       "      <td>4</td>\n",
       "      <td>cripps_pink</td>\n",
       "      <td>6</td>\n",
       "    </tr>\n",
       "    <tr>\n",
       "      <th>lemon</th>\n",
       "      <td>16</td>\n",
       "      <td>2</td>\n",
       "      <td>unknown</td>\n",
       "      <td>10</td>\n",
       "    </tr>\n",
       "    <tr>\n",
       "      <th>mandarin</th>\n",
       "      <td>5</td>\n",
       "      <td>1</td>\n",
       "      <td>mandarin</td>\n",
       "      <td>5</td>\n",
       "    </tr>\n",
       "    <tr>\n",
       "      <th>orange</th>\n",
       "      <td>19</td>\n",
       "      <td>3</td>\n",
       "      <td>turkey_navel</td>\n",
       "      <td>10</td>\n",
       "    </tr>\n",
       "  </tbody>\n",
       "</table>\n",
       "</div>"
      ],
      "text/plain": [
       "           count unique           top freq\n",
       "fruit_name                                \n",
       "apple         19      4   cripps_pink    6\n",
       "lemon         16      2       unknown   10\n",
       "mandarin       5      1      mandarin    5\n",
       "orange        19      3  turkey_navel   10"
      ]
     },
     "execution_count": 192,
     "metadata": {},
     "output_type": "execute_result"
    }
   ],
   "source": [
    "groupby_data = df.groupby('fruit_name')['fruit_subtype'].describe()\n",
    "groupby_data"
   ]
  },
  {
   "cell_type": "markdown",
   "metadata": {},
   "source": [
    "# 2. Preprocessing Data"
   ]
  },
  {
   "cell_type": "markdown",
   "metadata": {},
   "source": [
    "Duplikasi dataframe untuk backup data"
   ]
  },
  {
   "cell_type": "code",
   "execution_count": 193,
   "metadata": {},
   "outputs": [],
   "source": [
    "df_backup = df.copy(deep=True)"
   ]
  },
  {
   "cell_type": "markdown",
   "metadata": {},
   "source": [
    "## 2.1 Label Encoding Fruit_Name"
   ]
  },
  {
   "cell_type": "code",
   "execution_count": 194,
   "metadata": {},
   "outputs": [
    {
     "data": {
      "text/html": [
       "<div>\n",
       "<style scoped>\n",
       "    .dataframe tbody tr th:only-of-type {\n",
       "        vertical-align: middle;\n",
       "    }\n",
       "\n",
       "    .dataframe tbody tr th {\n",
       "        vertical-align: top;\n",
       "    }\n",
       "\n",
       "    .dataframe thead th {\n",
       "        text-align: right;\n",
       "    }\n",
       "</style>\n",
       "<table border=\"1\" class=\"dataframe\">\n",
       "  <thead>\n",
       "    <tr style=\"text-align: right;\">\n",
       "      <th></th>\n",
       "      <th>fruit_label</th>\n",
       "      <th>fruit_name</th>\n",
       "      <th>fruit_subtype</th>\n",
       "      <th>mass</th>\n",
       "      <th>width</th>\n",
       "      <th>height</th>\n",
       "      <th>color_score</th>\n",
       "    </tr>\n",
       "  </thead>\n",
       "  <tbody>\n",
       "    <tr>\n",
       "      <th>0</th>\n",
       "      <td>1</td>\n",
       "      <td>1</td>\n",
       "      <td>granny_smith</td>\n",
       "      <td>192</td>\n",
       "      <td>8.4</td>\n",
       "      <td>7.3</td>\n",
       "      <td>0.55</td>\n",
       "    </tr>\n",
       "    <tr>\n",
       "      <th>1</th>\n",
       "      <td>1</td>\n",
       "      <td>1</td>\n",
       "      <td>granny_smith</td>\n",
       "      <td>180</td>\n",
       "      <td>8.0</td>\n",
       "      <td>6.8</td>\n",
       "      <td>0.59</td>\n",
       "    </tr>\n",
       "    <tr>\n",
       "      <th>2</th>\n",
       "      <td>1</td>\n",
       "      <td>1</td>\n",
       "      <td>granny_smith</td>\n",
       "      <td>176</td>\n",
       "      <td>7.4</td>\n",
       "      <td>7.2</td>\n",
       "      <td>0.60</td>\n",
       "    </tr>\n",
       "    <tr>\n",
       "      <th>3</th>\n",
       "      <td>2</td>\n",
       "      <td>2</td>\n",
       "      <td>mandarin</td>\n",
       "      <td>86</td>\n",
       "      <td>6.2</td>\n",
       "      <td>4.7</td>\n",
       "      <td>0.80</td>\n",
       "    </tr>\n",
       "    <tr>\n",
       "      <th>4</th>\n",
       "      <td>2</td>\n",
       "      <td>2</td>\n",
       "      <td>mandarin</td>\n",
       "      <td>84</td>\n",
       "      <td>6.0</td>\n",
       "      <td>4.6</td>\n",
       "      <td>0.79</td>\n",
       "    </tr>\n",
       "  </tbody>\n",
       "</table>\n",
       "</div>"
      ],
      "text/plain": [
       "   fruit_label  fruit_name fruit_subtype  mass  width  height  color_score\n",
       "0            1           1  granny_smith   192    8.4     7.3         0.55\n",
       "1            1           1  granny_smith   180    8.0     6.8         0.59\n",
       "2            1           1  granny_smith   176    7.4     7.2         0.60\n",
       "3            2           2      mandarin    86    6.2     4.7         0.80\n",
       "4            2           2      mandarin    84    6.0     4.6         0.79"
      ]
     },
     "execution_count": 194,
     "metadata": {},
     "output_type": "execute_result"
    }
   ],
   "source": [
    "fruit_map = {\n",
    "    'apple' : 1,\n",
    "    'mandarin': 2,\n",
    "    'orange': 3,\n",
    "    'lemon': 4\n",
    "}\n",
    "\n",
    "df['fruit_name'] = df['fruit_name'].map(fruit_map)\n",
    "df.head()"
   ]
  },
  {
   "cell_type": "markdown",
   "metadata": {},
   "source": [
    "### Pengecekan Anomali setelah encoding"
   ]
  },
  {
   "cell_type": "code",
   "execution_count": 195,
   "metadata": {},
   "outputs": [
    {
     "data": {
      "text/plain": [
       "np.int64(55)"
      ]
     },
     "execution_count": 195,
     "metadata": {},
     "output_type": "execute_result"
    }
   ],
   "source": [
    "df[['fruit_label','fruit_name']].duplicated().sum()"
   ]
  },
  {
   "cell_type": "code",
   "execution_count": 196,
   "metadata": {},
   "outputs": [
    {
     "name": "stdout",
     "output_type": "stream",
     "text": [
      "<class 'pandas.core.frame.DataFrame'>\n",
      "RangeIndex: 59 entries, 0 to 58\n",
      "Data columns (total 7 columns):\n",
      " #   Column         Non-Null Count  Dtype  \n",
      "---  ------         --------------  -----  \n",
      " 0   fruit_label    59 non-null     int64  \n",
      " 1   fruit_name     59 non-null     int64  \n",
      " 2   fruit_subtype  59 non-null     object \n",
      " 3   mass           59 non-null     int64  \n",
      " 4   width          59 non-null     float64\n",
      " 5   height         59 non-null     float64\n",
      " 6   color_score    59 non-null     float64\n",
      "dtypes: float64(3), int64(3), object(1)\n",
      "memory usage: 3.4+ KB\n"
     ]
    }
   ],
   "source": [
    "df.info()"
   ]
  },
  {
   "cell_type": "code",
   "execution_count": 197,
   "metadata": {},
   "outputs": [
    {
     "data": {
      "text/html": [
       "<div>\n",
       "<style scoped>\n",
       "    .dataframe tbody tr th:only-of-type {\n",
       "        vertical-align: middle;\n",
       "    }\n",
       "\n",
       "    .dataframe tbody tr th {\n",
       "        vertical-align: top;\n",
       "    }\n",
       "\n",
       "    .dataframe thead th {\n",
       "        text-align: right;\n",
       "    }\n",
       "</style>\n",
       "<table border=\"1\" class=\"dataframe\">\n",
       "  <thead>\n",
       "    <tr style=\"text-align: right;\">\n",
       "      <th></th>\n",
       "      <th>fruit_label</th>\n",
       "      <th>fruit_name</th>\n",
       "    </tr>\n",
       "  </thead>\n",
       "  <tbody>\n",
       "    <tr>\n",
       "      <th>0</th>\n",
       "      <td>1</td>\n",
       "      <td>1</td>\n",
       "    </tr>\n",
       "    <tr>\n",
       "      <th>3</th>\n",
       "      <td>2</td>\n",
       "      <td>2</td>\n",
       "    </tr>\n",
       "    <tr>\n",
       "      <th>24</th>\n",
       "      <td>3</td>\n",
       "      <td>3</td>\n",
       "    </tr>\n",
       "    <tr>\n",
       "      <th>43</th>\n",
       "      <td>4</td>\n",
       "      <td>4</td>\n",
       "    </tr>\n",
       "  </tbody>\n",
       "</table>\n",
       "</div>"
      ],
      "text/plain": [
       "    fruit_label  fruit_name\n",
       "0             1           1\n",
       "3             2           2\n",
       "24            3           3\n",
       "43            4           4"
      ]
     },
     "execution_count": 197,
     "metadata": {},
     "output_type": "execute_result"
    }
   ],
   "source": [
    "adf = df[['fruit_label','fruit_name']].drop_duplicates()\n",
    "adf"
   ]
  },
  {
   "cell_type": "code",
   "execution_count": 198,
   "metadata": {},
   "outputs": [
    {
     "data": {
      "text/plain": [
       "fruit_subtype\n",
       "turkey_navel        10\n",
       "unknown             10\n",
       "spanish_belsan       6\n",
       "selected_seconds     6\n",
       "cripps_pink          6\n",
       "mandarin             5\n",
       "golden_delicious     5\n",
       "braeburn             5\n",
       "granny_smith         3\n",
       "spanish_jumbo        3\n",
       "Name: count, dtype: int64"
      ]
     },
     "execution_count": 198,
     "metadata": {},
     "output_type": "execute_result"
    }
   ],
   "source": [
    "df['fruit_subtype'].value_counts()"
   ]
  },
  {
   "cell_type": "markdown",
   "metadata": {},
   "source": [
    "### Insight: Tidak ada anomali data"
   ]
  },
  {
   "cell_type": "markdown",
   "metadata": {},
   "source": [
    "## 2.2 One hot encoding kolom fruit_subtype"
   ]
  },
  {
   "cell_type": "code",
   "execution_count": 199,
   "metadata": {},
   "outputs": [],
   "source": [
    "df = pd.get_dummies(data=df,columns=['fruit_subtype'])"
   ]
  },
  {
   "cell_type": "code",
   "execution_count": 200,
   "metadata": {},
   "outputs": [
    {
     "data": {
      "text/html": [
       "<div>\n",
       "<style scoped>\n",
       "    .dataframe tbody tr th:only-of-type {\n",
       "        vertical-align: middle;\n",
       "    }\n",
       "\n",
       "    .dataframe tbody tr th {\n",
       "        vertical-align: top;\n",
       "    }\n",
       "\n",
       "    .dataframe thead th {\n",
       "        text-align: right;\n",
       "    }\n",
       "</style>\n",
       "<table border=\"1\" class=\"dataframe\">\n",
       "  <thead>\n",
       "    <tr style=\"text-align: right;\">\n",
       "      <th></th>\n",
       "      <th>fruit_label</th>\n",
       "      <th>fruit_name</th>\n",
       "      <th>mass</th>\n",
       "      <th>width</th>\n",
       "      <th>height</th>\n",
       "      <th>color_score</th>\n",
       "      <th>fruit_subtype_braeburn</th>\n",
       "      <th>fruit_subtype_cripps_pink</th>\n",
       "      <th>fruit_subtype_golden_delicious</th>\n",
       "      <th>fruit_subtype_granny_smith</th>\n",
       "      <th>fruit_subtype_mandarin</th>\n",
       "      <th>fruit_subtype_selected_seconds</th>\n",
       "      <th>fruit_subtype_spanish_belsan</th>\n",
       "      <th>fruit_subtype_spanish_jumbo</th>\n",
       "      <th>fruit_subtype_turkey_navel</th>\n",
       "      <th>fruit_subtype_unknown</th>\n",
       "    </tr>\n",
       "  </thead>\n",
       "  <tbody>\n",
       "    <tr>\n",
       "      <th>0</th>\n",
       "      <td>1</td>\n",
       "      <td>1</td>\n",
       "      <td>192</td>\n",
       "      <td>8.4</td>\n",
       "      <td>7.3</td>\n",
       "      <td>0.55</td>\n",
       "      <td>False</td>\n",
       "      <td>False</td>\n",
       "      <td>False</td>\n",
       "      <td>True</td>\n",
       "      <td>False</td>\n",
       "      <td>False</td>\n",
       "      <td>False</td>\n",
       "      <td>False</td>\n",
       "      <td>False</td>\n",
       "      <td>False</td>\n",
       "    </tr>\n",
       "    <tr>\n",
       "      <th>1</th>\n",
       "      <td>1</td>\n",
       "      <td>1</td>\n",
       "      <td>180</td>\n",
       "      <td>8.0</td>\n",
       "      <td>6.8</td>\n",
       "      <td>0.59</td>\n",
       "      <td>False</td>\n",
       "      <td>False</td>\n",
       "      <td>False</td>\n",
       "      <td>True</td>\n",
       "      <td>False</td>\n",
       "      <td>False</td>\n",
       "      <td>False</td>\n",
       "      <td>False</td>\n",
       "      <td>False</td>\n",
       "      <td>False</td>\n",
       "    </tr>\n",
       "    <tr>\n",
       "      <th>2</th>\n",
       "      <td>1</td>\n",
       "      <td>1</td>\n",
       "      <td>176</td>\n",
       "      <td>7.4</td>\n",
       "      <td>7.2</td>\n",
       "      <td>0.60</td>\n",
       "      <td>False</td>\n",
       "      <td>False</td>\n",
       "      <td>False</td>\n",
       "      <td>True</td>\n",
       "      <td>False</td>\n",
       "      <td>False</td>\n",
       "      <td>False</td>\n",
       "      <td>False</td>\n",
       "      <td>False</td>\n",
       "      <td>False</td>\n",
       "    </tr>\n",
       "    <tr>\n",
       "      <th>3</th>\n",
       "      <td>2</td>\n",
       "      <td>2</td>\n",
       "      <td>86</td>\n",
       "      <td>6.2</td>\n",
       "      <td>4.7</td>\n",
       "      <td>0.80</td>\n",
       "      <td>False</td>\n",
       "      <td>False</td>\n",
       "      <td>False</td>\n",
       "      <td>False</td>\n",
       "      <td>True</td>\n",
       "      <td>False</td>\n",
       "      <td>False</td>\n",
       "      <td>False</td>\n",
       "      <td>False</td>\n",
       "      <td>False</td>\n",
       "    </tr>\n",
       "    <tr>\n",
       "      <th>4</th>\n",
       "      <td>2</td>\n",
       "      <td>2</td>\n",
       "      <td>84</td>\n",
       "      <td>6.0</td>\n",
       "      <td>4.6</td>\n",
       "      <td>0.79</td>\n",
       "      <td>False</td>\n",
       "      <td>False</td>\n",
       "      <td>False</td>\n",
       "      <td>False</td>\n",
       "      <td>True</td>\n",
       "      <td>False</td>\n",
       "      <td>False</td>\n",
       "      <td>False</td>\n",
       "      <td>False</td>\n",
       "      <td>False</td>\n",
       "    </tr>\n",
       "  </tbody>\n",
       "</table>\n",
       "</div>"
      ],
      "text/plain": [
       "   fruit_label  fruit_name  mass  width  height  color_score  \\\n",
       "0            1           1   192    8.4     7.3         0.55   \n",
       "1            1           1   180    8.0     6.8         0.59   \n",
       "2            1           1   176    7.4     7.2         0.60   \n",
       "3            2           2    86    6.2     4.7         0.80   \n",
       "4            2           2    84    6.0     4.6         0.79   \n",
       "\n",
       "   fruit_subtype_braeburn  fruit_subtype_cripps_pink  \\\n",
       "0                   False                      False   \n",
       "1                   False                      False   \n",
       "2                   False                      False   \n",
       "3                   False                      False   \n",
       "4                   False                      False   \n",
       "\n",
       "   fruit_subtype_golden_delicious  fruit_subtype_granny_smith  \\\n",
       "0                           False                        True   \n",
       "1                           False                        True   \n",
       "2                           False                        True   \n",
       "3                           False                       False   \n",
       "4                           False                       False   \n",
       "\n",
       "   fruit_subtype_mandarin  fruit_subtype_selected_seconds  \\\n",
       "0                   False                           False   \n",
       "1                   False                           False   \n",
       "2                   False                           False   \n",
       "3                    True                           False   \n",
       "4                    True                           False   \n",
       "\n",
       "   fruit_subtype_spanish_belsan  fruit_subtype_spanish_jumbo  \\\n",
       "0                         False                        False   \n",
       "1                         False                        False   \n",
       "2                         False                        False   \n",
       "3                         False                        False   \n",
       "4                         False                        False   \n",
       "\n",
       "   fruit_subtype_turkey_navel  fruit_subtype_unknown  \n",
       "0                       False                  False  \n",
       "1                       False                  False  \n",
       "2                       False                  False  \n",
       "3                       False                  False  \n",
       "4                       False                  False  "
      ]
     },
     "execution_count": 200,
     "metadata": {},
     "output_type": "execute_result"
    }
   ],
   "source": [
    "df.head()"
   ]
  },
  {
   "cell_type": "code",
   "execution_count": 201,
   "metadata": {},
   "outputs": [],
   "source": [
    "df.rename(columns={'fruit_subtype_unknown': 'fruit_subtype_others'},inplace=True)"
   ]
  },
  {
   "cell_type": "code",
   "execution_count": 202,
   "metadata": {},
   "outputs": [
    {
     "data": {
      "text/html": [
       "<div>\n",
       "<style scoped>\n",
       "    .dataframe tbody tr th:only-of-type {\n",
       "        vertical-align: middle;\n",
       "    }\n",
       "\n",
       "    .dataframe tbody tr th {\n",
       "        vertical-align: top;\n",
       "    }\n",
       "\n",
       "    .dataframe thead th {\n",
       "        text-align: right;\n",
       "    }\n",
       "</style>\n",
       "<table border=\"1\" class=\"dataframe\">\n",
       "  <thead>\n",
       "    <tr style=\"text-align: right;\">\n",
       "      <th></th>\n",
       "      <th>fruit_label</th>\n",
       "      <th>fruit_name</th>\n",
       "      <th>mass</th>\n",
       "      <th>width</th>\n",
       "      <th>height</th>\n",
       "      <th>color_score</th>\n",
       "      <th>fruit_subtype_braeburn</th>\n",
       "      <th>fruit_subtype_cripps_pink</th>\n",
       "      <th>fruit_subtype_golden_delicious</th>\n",
       "      <th>fruit_subtype_granny_smith</th>\n",
       "      <th>fruit_subtype_mandarin</th>\n",
       "      <th>fruit_subtype_selected_seconds</th>\n",
       "      <th>fruit_subtype_spanish_belsan</th>\n",
       "      <th>fruit_subtype_spanish_jumbo</th>\n",
       "      <th>fruit_subtype_turkey_navel</th>\n",
       "      <th>fruit_subtype_others</th>\n",
       "      <th>density</th>\n",
       "    </tr>\n",
       "  </thead>\n",
       "  <tbody>\n",
       "    <tr>\n",
       "      <th>0</th>\n",
       "      <td>1</td>\n",
       "      <td>1</td>\n",
       "      <td>192</td>\n",
       "      <td>8.4</td>\n",
       "      <td>7.3</td>\n",
       "      <td>0.55</td>\n",
       "      <td>False</td>\n",
       "      <td>False</td>\n",
       "      <td>False</td>\n",
       "      <td>True</td>\n",
       "      <td>False</td>\n",
       "      <td>False</td>\n",
       "      <td>False</td>\n",
       "      <td>False</td>\n",
       "      <td>False</td>\n",
       "      <td>False</td>\n",
       "      <td>3.131115</td>\n",
       "    </tr>\n",
       "    <tr>\n",
       "      <th>1</th>\n",
       "      <td>1</td>\n",
       "      <td>1</td>\n",
       "      <td>180</td>\n",
       "      <td>8.0</td>\n",
       "      <td>6.8</td>\n",
       "      <td>0.59</td>\n",
       "      <td>False</td>\n",
       "      <td>False</td>\n",
       "      <td>False</td>\n",
       "      <td>True</td>\n",
       "      <td>False</td>\n",
       "      <td>False</td>\n",
       "      <td>False</td>\n",
       "      <td>False</td>\n",
       "      <td>False</td>\n",
       "      <td>False</td>\n",
       "      <td>3.308824</td>\n",
       "    </tr>\n",
       "    <tr>\n",
       "      <th>2</th>\n",
       "      <td>1</td>\n",
       "      <td>1</td>\n",
       "      <td>176</td>\n",
       "      <td>7.4</td>\n",
       "      <td>7.2</td>\n",
       "      <td>0.60</td>\n",
       "      <td>False</td>\n",
       "      <td>False</td>\n",
       "      <td>False</td>\n",
       "      <td>True</td>\n",
       "      <td>False</td>\n",
       "      <td>False</td>\n",
       "      <td>False</td>\n",
       "      <td>False</td>\n",
       "      <td>False</td>\n",
       "      <td>False</td>\n",
       "      <td>3.303303</td>\n",
       "    </tr>\n",
       "    <tr>\n",
       "      <th>3</th>\n",
       "      <td>2</td>\n",
       "      <td>2</td>\n",
       "      <td>86</td>\n",
       "      <td>6.2</td>\n",
       "      <td>4.7</td>\n",
       "      <td>0.80</td>\n",
       "      <td>False</td>\n",
       "      <td>False</td>\n",
       "      <td>False</td>\n",
       "      <td>False</td>\n",
       "      <td>True</td>\n",
       "      <td>False</td>\n",
       "      <td>False</td>\n",
       "      <td>False</td>\n",
       "      <td>False</td>\n",
       "      <td>False</td>\n",
       "      <td>2.951270</td>\n",
       "    </tr>\n",
       "    <tr>\n",
       "      <th>4</th>\n",
       "      <td>2</td>\n",
       "      <td>2</td>\n",
       "      <td>84</td>\n",
       "      <td>6.0</td>\n",
       "      <td>4.6</td>\n",
       "      <td>0.79</td>\n",
       "      <td>False</td>\n",
       "      <td>False</td>\n",
       "      <td>False</td>\n",
       "      <td>False</td>\n",
       "      <td>True</td>\n",
       "      <td>False</td>\n",
       "      <td>False</td>\n",
       "      <td>False</td>\n",
       "      <td>False</td>\n",
       "      <td>False</td>\n",
       "      <td>3.043478</td>\n",
       "    </tr>\n",
       "  </tbody>\n",
       "</table>\n",
       "</div>"
      ],
      "text/plain": [
       "   fruit_label  fruit_name  mass  width  height  color_score  \\\n",
       "0            1           1   192    8.4     7.3         0.55   \n",
       "1            1           1   180    8.0     6.8         0.59   \n",
       "2            1           1   176    7.4     7.2         0.60   \n",
       "3            2           2    86    6.2     4.7         0.80   \n",
       "4            2           2    84    6.0     4.6         0.79   \n",
       "\n",
       "   fruit_subtype_braeburn  fruit_subtype_cripps_pink  \\\n",
       "0                   False                      False   \n",
       "1                   False                      False   \n",
       "2                   False                      False   \n",
       "3                   False                      False   \n",
       "4                   False                      False   \n",
       "\n",
       "   fruit_subtype_golden_delicious  fruit_subtype_granny_smith  \\\n",
       "0                           False                        True   \n",
       "1                           False                        True   \n",
       "2                           False                        True   \n",
       "3                           False                       False   \n",
       "4                           False                       False   \n",
       "\n",
       "   fruit_subtype_mandarin  fruit_subtype_selected_seconds  \\\n",
       "0                   False                           False   \n",
       "1                   False                           False   \n",
       "2                   False                           False   \n",
       "3                    True                           False   \n",
       "4                    True                           False   \n",
       "\n",
       "   fruit_subtype_spanish_belsan  fruit_subtype_spanish_jumbo  \\\n",
       "0                         False                        False   \n",
       "1                         False                        False   \n",
       "2                         False                        False   \n",
       "3                         False                        False   \n",
       "4                         False                        False   \n",
       "\n",
       "   fruit_subtype_turkey_navel  fruit_subtype_others   density  \n",
       "0                       False                 False  3.131115  \n",
       "1                       False                 False  3.308824  \n",
       "2                       False                 False  3.303303  \n",
       "3                       False                 False  2.951270  \n",
       "4                       False                 False  3.043478  "
      ]
     },
     "execution_count": 202,
     "metadata": {},
     "output_type": "execute_result"
    }
   ],
   "source": [
    "df['density'] = df['mass'] / (df['width'] * df['height'])\n",
    "df.head()"
   ]
  },
  {
   "cell_type": "code",
   "execution_count": 203,
   "metadata": {},
   "outputs": [
    {
     "data": {
      "text/html": [
       "<div>\n",
       "<style scoped>\n",
       "    .dataframe tbody tr th:only-of-type {\n",
       "        vertical-align: middle;\n",
       "    }\n",
       "\n",
       "    .dataframe tbody tr th {\n",
       "        vertical-align: top;\n",
       "    }\n",
       "\n",
       "    .dataframe thead th {\n",
       "        text-align: right;\n",
       "    }\n",
       "</style>\n",
       "<table border=\"1\" class=\"dataframe\">\n",
       "  <thead>\n",
       "    <tr style=\"text-align: right;\">\n",
       "      <th></th>\n",
       "      <th>fruit_label</th>\n",
       "      <th>fruit_name</th>\n",
       "      <th>mass</th>\n",
       "      <th>width</th>\n",
       "      <th>height</th>\n",
       "      <th>color_score</th>\n",
       "      <th>fruit_subtype_braeburn</th>\n",
       "      <th>fruit_subtype_cripps_pink</th>\n",
       "      <th>fruit_subtype_golden_delicious</th>\n",
       "      <th>fruit_subtype_granny_smith</th>\n",
       "      <th>fruit_subtype_mandarin</th>\n",
       "      <th>fruit_subtype_selected_seconds</th>\n",
       "      <th>fruit_subtype_spanish_belsan</th>\n",
       "      <th>fruit_subtype_spanish_jumbo</th>\n",
       "      <th>fruit_subtype_turkey_navel</th>\n",
       "      <th>fruit_subtype_others</th>\n",
       "      <th>density</th>\n",
       "    </tr>\n",
       "  </thead>\n",
       "  <tbody>\n",
       "    <tr>\n",
       "      <th>49</th>\n",
       "      <td>4</td>\n",
       "      <td>4</td>\n",
       "      <td>132</td>\n",
       "      <td>5.8</td>\n",
       "      <td>8.7</td>\n",
       "      <td>0.73</td>\n",
       "      <td>False</td>\n",
       "      <td>False</td>\n",
       "      <td>False</td>\n",
       "      <td>False</td>\n",
       "      <td>False</td>\n",
       "      <td>False</td>\n",
       "      <td>False</td>\n",
       "      <td>False</td>\n",
       "      <td>False</td>\n",
       "      <td>True</td>\n",
       "      <td>2.615933</td>\n",
       "    </tr>\n",
       "    <tr>\n",
       "      <th>50</th>\n",
       "      <td>4</td>\n",
       "      <td>4</td>\n",
       "      <td>130</td>\n",
       "      <td>6.0</td>\n",
       "      <td>8.2</td>\n",
       "      <td>0.71</td>\n",
       "      <td>False</td>\n",
       "      <td>False</td>\n",
       "      <td>False</td>\n",
       "      <td>False</td>\n",
       "      <td>False</td>\n",
       "      <td>False</td>\n",
       "      <td>False</td>\n",
       "      <td>False</td>\n",
       "      <td>False</td>\n",
       "      <td>True</td>\n",
       "      <td>2.642276</td>\n",
       "    </tr>\n",
       "    <tr>\n",
       "      <th>51</th>\n",
       "      <td>4</td>\n",
       "      <td>4</td>\n",
       "      <td>116</td>\n",
       "      <td>6.0</td>\n",
       "      <td>7.5</td>\n",
       "      <td>0.72</td>\n",
       "      <td>False</td>\n",
       "      <td>False</td>\n",
       "      <td>False</td>\n",
       "      <td>False</td>\n",
       "      <td>False</td>\n",
       "      <td>False</td>\n",
       "      <td>False</td>\n",
       "      <td>False</td>\n",
       "      <td>False</td>\n",
       "      <td>True</td>\n",
       "      <td>2.577778</td>\n",
       "    </tr>\n",
       "    <tr>\n",
       "      <th>52</th>\n",
       "      <td>4</td>\n",
       "      <td>4</td>\n",
       "      <td>118</td>\n",
       "      <td>5.9</td>\n",
       "      <td>8.0</td>\n",
       "      <td>0.72</td>\n",
       "      <td>False</td>\n",
       "      <td>False</td>\n",
       "      <td>False</td>\n",
       "      <td>False</td>\n",
       "      <td>False</td>\n",
       "      <td>False</td>\n",
       "      <td>False</td>\n",
       "      <td>False</td>\n",
       "      <td>False</td>\n",
       "      <td>True</td>\n",
       "      <td>2.500000</td>\n",
       "    </tr>\n",
       "    <tr>\n",
       "      <th>53</th>\n",
       "      <td>4</td>\n",
       "      <td>4</td>\n",
       "      <td>120</td>\n",
       "      <td>6.0</td>\n",
       "      <td>8.4</td>\n",
       "      <td>0.74</td>\n",
       "      <td>False</td>\n",
       "      <td>False</td>\n",
       "      <td>False</td>\n",
       "      <td>False</td>\n",
       "      <td>False</td>\n",
       "      <td>False</td>\n",
       "      <td>False</td>\n",
       "      <td>False</td>\n",
       "      <td>False</td>\n",
       "      <td>True</td>\n",
       "      <td>2.380952</td>\n",
       "    </tr>\n",
       "    <tr>\n",
       "      <th>54</th>\n",
       "      <td>4</td>\n",
       "      <td>4</td>\n",
       "      <td>116</td>\n",
       "      <td>6.1</td>\n",
       "      <td>8.5</td>\n",
       "      <td>0.71</td>\n",
       "      <td>False</td>\n",
       "      <td>False</td>\n",
       "      <td>False</td>\n",
       "      <td>False</td>\n",
       "      <td>False</td>\n",
       "      <td>False</td>\n",
       "      <td>False</td>\n",
       "      <td>False</td>\n",
       "      <td>False</td>\n",
       "      <td>True</td>\n",
       "      <td>2.237223</td>\n",
       "    </tr>\n",
       "    <tr>\n",
       "      <th>55</th>\n",
       "      <td>4</td>\n",
       "      <td>4</td>\n",
       "      <td>116</td>\n",
       "      <td>6.3</td>\n",
       "      <td>7.7</td>\n",
       "      <td>0.72</td>\n",
       "      <td>False</td>\n",
       "      <td>False</td>\n",
       "      <td>False</td>\n",
       "      <td>False</td>\n",
       "      <td>False</td>\n",
       "      <td>False</td>\n",
       "      <td>False</td>\n",
       "      <td>False</td>\n",
       "      <td>False</td>\n",
       "      <td>True</td>\n",
       "      <td>2.391260</td>\n",
       "    </tr>\n",
       "    <tr>\n",
       "      <th>56</th>\n",
       "      <td>4</td>\n",
       "      <td>4</td>\n",
       "      <td>116</td>\n",
       "      <td>5.9</td>\n",
       "      <td>8.1</td>\n",
       "      <td>0.73</td>\n",
       "      <td>False</td>\n",
       "      <td>False</td>\n",
       "      <td>False</td>\n",
       "      <td>False</td>\n",
       "      <td>False</td>\n",
       "      <td>False</td>\n",
       "      <td>False</td>\n",
       "      <td>False</td>\n",
       "      <td>False</td>\n",
       "      <td>True</td>\n",
       "      <td>2.427286</td>\n",
       "    </tr>\n",
       "    <tr>\n",
       "      <th>57</th>\n",
       "      <td>4</td>\n",
       "      <td>4</td>\n",
       "      <td>152</td>\n",
       "      <td>6.5</td>\n",
       "      <td>8.5</td>\n",
       "      <td>0.72</td>\n",
       "      <td>False</td>\n",
       "      <td>False</td>\n",
       "      <td>False</td>\n",
       "      <td>False</td>\n",
       "      <td>False</td>\n",
       "      <td>False</td>\n",
       "      <td>False</td>\n",
       "      <td>False</td>\n",
       "      <td>False</td>\n",
       "      <td>True</td>\n",
       "      <td>2.751131</td>\n",
       "    </tr>\n",
       "    <tr>\n",
       "      <th>58</th>\n",
       "      <td>4</td>\n",
       "      <td>4</td>\n",
       "      <td>118</td>\n",
       "      <td>6.1</td>\n",
       "      <td>8.1</td>\n",
       "      <td>0.70</td>\n",
       "      <td>False</td>\n",
       "      <td>False</td>\n",
       "      <td>False</td>\n",
       "      <td>False</td>\n",
       "      <td>False</td>\n",
       "      <td>False</td>\n",
       "      <td>False</td>\n",
       "      <td>False</td>\n",
       "      <td>False</td>\n",
       "      <td>True</td>\n",
       "      <td>2.388181</td>\n",
       "    </tr>\n",
       "  </tbody>\n",
       "</table>\n",
       "</div>"
      ],
      "text/plain": [
       "    fruit_label  fruit_name  mass  width  height  color_score  \\\n",
       "49            4           4   132    5.8     8.7         0.73   \n",
       "50            4           4   130    6.0     8.2         0.71   \n",
       "51            4           4   116    6.0     7.5         0.72   \n",
       "52            4           4   118    5.9     8.0         0.72   \n",
       "53            4           4   120    6.0     8.4         0.74   \n",
       "54            4           4   116    6.1     8.5         0.71   \n",
       "55            4           4   116    6.3     7.7         0.72   \n",
       "56            4           4   116    5.9     8.1         0.73   \n",
       "57            4           4   152    6.5     8.5         0.72   \n",
       "58            4           4   118    6.1     8.1         0.70   \n",
       "\n",
       "    fruit_subtype_braeburn  fruit_subtype_cripps_pink  \\\n",
       "49                   False                      False   \n",
       "50                   False                      False   \n",
       "51                   False                      False   \n",
       "52                   False                      False   \n",
       "53                   False                      False   \n",
       "54                   False                      False   \n",
       "55                   False                      False   \n",
       "56                   False                      False   \n",
       "57                   False                      False   \n",
       "58                   False                      False   \n",
       "\n",
       "    fruit_subtype_golden_delicious  fruit_subtype_granny_smith  \\\n",
       "49                           False                       False   \n",
       "50                           False                       False   \n",
       "51                           False                       False   \n",
       "52                           False                       False   \n",
       "53                           False                       False   \n",
       "54                           False                       False   \n",
       "55                           False                       False   \n",
       "56                           False                       False   \n",
       "57                           False                       False   \n",
       "58                           False                       False   \n",
       "\n",
       "    fruit_subtype_mandarin  fruit_subtype_selected_seconds  \\\n",
       "49                   False                           False   \n",
       "50                   False                           False   \n",
       "51                   False                           False   \n",
       "52                   False                           False   \n",
       "53                   False                           False   \n",
       "54                   False                           False   \n",
       "55                   False                           False   \n",
       "56                   False                           False   \n",
       "57                   False                           False   \n",
       "58                   False                           False   \n",
       "\n",
       "    fruit_subtype_spanish_belsan  fruit_subtype_spanish_jumbo  \\\n",
       "49                         False                        False   \n",
       "50                         False                        False   \n",
       "51                         False                        False   \n",
       "52                         False                        False   \n",
       "53                         False                        False   \n",
       "54                         False                        False   \n",
       "55                         False                        False   \n",
       "56                         False                        False   \n",
       "57                         False                        False   \n",
       "58                         False                        False   \n",
       "\n",
       "    fruit_subtype_turkey_navel  fruit_subtype_others   density  \n",
       "49                       False                  True  2.615933  \n",
       "50                       False                  True  2.642276  \n",
       "51                       False                  True  2.577778  \n",
       "52                       False                  True  2.500000  \n",
       "53                       False                  True  2.380952  \n",
       "54                       False                  True  2.237223  \n",
       "55                       False                  True  2.391260  \n",
       "56                       False                  True  2.427286  \n",
       "57                       False                  True  2.751131  \n",
       "58                       False                  True  2.388181  "
      ]
     },
     "execution_count": 203,
     "metadata": {},
     "output_type": "execute_result"
    }
   ],
   "source": [
    "df[df['fruit_subtype_others'] == True]"
   ]
  },
  {
   "cell_type": "code",
   "execution_count": 204,
   "metadata": {},
   "outputs": [
    {
     "data": {
      "image/png": "[encoded data removed]",
      "text/plain": [
       "<Figure size 1200x1000 with 2 Axes>"
      ]
     },
     "metadata": {},
     "output_type": "display_data"
    }
   ],
   "source": [
    "plt.figure(figsize=(12,10))\n",
    "sns.heatmap(df.corr('spearman'),annot=True,cmap='coolwarm')\n",
    "plt.show()"
   ]
  },
  {
   "cell_type": "markdown",
   "metadata": {},
   "source": [
    "### Insight: Mungkin menghapus kolom fruit_name atau menduplikat dataframe untuk modeling, dan memisahkannya dengan dataframe asli (dengan nama buah yang di convert kembali)"
   ]
  },
  {
   "cell_type": "markdown",
   "metadata": {},
   "source": [
    "## Melakukan split data untuk normalisasi"
   ]
  },
  {
   "cell_type": "code",
   "execution_count": 205,
   "metadata": {},
   "outputs": [],
   "source": [
    "x = df.drop(columns=['fruit_label','fruit_name'])\n",
    "y = df['fruit_label']"
   ]
  },
  {
   "cell_type": "code",
   "execution_count": 206,
   "metadata": {},
   "outputs": [
    {
     "data": {
      "text/plain": [
       "fruit_label\n",
       "1    19\n",
       "3    19\n",
       "4    16\n",
       "2     5\n",
       "Name: count, dtype: int64"
      ]
     },
     "execution_count": 206,
     "metadata": {},
     "output_type": "execute_result"
    }
   ],
   "source": [
    "y.value_counts()"
   ]
  },
  {
   "cell_type": "code",
   "execution_count": 207,
   "metadata": {},
   "outputs": [
    {
     "name": "stdout",
     "output_type": "stream",
     "text": [
      "Jumlah x_train : (49, 15)\n",
      "Jumlah x_test : (10, 15)\n",
      "Jumlah y_train : (49,)\n",
      "Jumlah y_test : (10,)\n"
     ]
    }
   ],
   "source": [
    "def train_test_split(x, y, test_size=0.2, stratify=None, random_state=None):\n",
    "    np.random.seed(random_state)\n",
    "    \n",
    "    x = np.array(x)\n",
    "    y = np.array(y)\n",
    "    \n",
    "    if stratify is not None:\n",
    "        unique_classes, y_indices = np.unique(stratify, return_inverse=True)\n",
    "        test_indices = np.array([], dtype=int)\n",
    "        train_indices = np.array([], dtype=int)\n",
    "        \n",
    "        for class_index in range(len(unique_classes)):\n",
    "            class_indices = np.where(y_indices == class_index)[0]\n",
    "            np.random.shuffle(class_indices)\n",
    "            \n",
    "            n_test = int(len(class_indices) * test_size)\n",
    "            test_indices = np.concatenate((test_indices, class_indices[:n_test]))\n",
    "            train_indices = np.concatenate((train_indices, class_indices[n_test:]))\n",
    "    else:\n",
    "        indices = np.arange(len(y))\n",
    "        np.random.shuffle(indices)\n",
    "        \n",
    "        n_test = int(len(y) * test_size)\n",
    "        test_indices = indices[:n_test]\n",
    "        train_indices = indices[n_test:]\n",
    "    \n",
    "    x_train, x_test = x[train_indices], x[test_indices]\n",
    "    y_train, y_test = y[train_indices], y[test_indices]\n",
    "    \n",
    "    return x_train, x_test, y_train, y_test\n",
    "\n",
    "x_train, x_test, y_train, y_test = train_test_split(x, y, test_size=0.2, stratify=y, random_state=42)\n",
    "print(f'Jumlah x_train : {x_train.shape}')\n",
    "print(f'Jumlah x_test : {x_test.shape}')\n",
    "print(f'Jumlah y_train : {y_train.shape}')\n",
    "print(f'Jumlah y_test : {y_test.shape}')"
   ]
  },
  {
   "cell_type": "markdown",
   "metadata": {},
   "source": [
    "## 2.4 Normalisasi fitur numerik (mass, width, height, color_score, density)"
   ]
  },
  {
   "cell_type": "code",
   "execution_count": 209,
   "metadata": {},
   "outputs": [],
   "source": [
    "def min_max_scaler(train, test):\n",
    "    min_val = np.min(train, axis=0)\n",
    "    max_val = np.max(train, axis=0)\n",
    "    epsilon = 1e-10\n",
    "    train_scaled = (train - min_val) / (max_val - min_val + epsilon)\n",
    "    test_scaled = (test - min_val) / (max_val - min_val + epsilon)\n",
    "    \n",
    "    return train_scaled, test_scaled, min_val, max_val\n",
    "\n",
    "x_train_scaled, x_test_scaled, minim, maxim = min_max_scaler(x_train, x_test)"
   ]
  },
  {
   "cell_type": "code",
   "execution_count": 210,
   "metadata": {},
   "outputs": [
    {
     "data": {
      "text/plain": [
       "array([180, 8.0, 6.8, 0.59, False, False, False, True, False, False,\n",
       "       False, False, False, False, 3.308823529411765], dtype=object)"
      ]
     },
     "execution_count": 210,
     "metadata": {},
     "output_type": "execute_result"
    }
   ],
   "source": [
    "x_train[0]"
   ]
  },
  {
   "cell_type": "code",
   "execution_count": 211,
   "metadata": {},
   "outputs": [
    {
     "data": {
      "text/plain": [
       "array([0.35460992907788846, 0.5789473684058173, 0.40322580644510925, 0.0,\n",
       "       0.0, 0.0, 0.0, 0.9999999999, 0.0, 0.0, 0.0, 0.0, 0.0, 0.0,\n",
       "       0.5756623786434499], dtype=object)"
      ]
     },
     "execution_count": 211,
     "metadata": {},
     "output_type": "execute_result"
    }
   ],
   "source": [
    "x_train_scaled[0]"
   ]
  },
  {
   "cell_type": "markdown",
   "metadata": {},
   "source": [
    "### Melakukan Oversampling Sintetis (SMOTE)"
   ]
  },
  {
   "cell_type": "code",
   "execution_count": 212,
   "metadata": {},
   "outputs": [],
   "source": [
    "def smote(x, y, random_state=42, k=5):\n",
    "    np.random.seed(random_state)\n",
    "    \n",
    "    unique_classes = np.unique(y)\n",
    "    class_counts = {class_label: np.sum(y == class_label) for class_label in unique_classes}\n",
    "    max_class_count = max(class_counts.values())\n",
    "    \n",
    "    x_resampled = x.tolist()\n",
    "    y_resampled = y.tolist()\n",
    "    \n",
    "    for class_label in unique_classes:\n",
    "        if class_counts[class_label] < max_class_count:\n",
    "            class_indices = np.where(y == class_label)[0]\n",
    "            class_samples = x[class_indices]\n",
    "            \n",
    "            n_samples_to_generate = max_class_count - class_counts[class_label]\n",
    "            \n",
    "            for _ in range(n_samples_to_generate):\n",
    "                sample_index = np.random.choice(class_indices)\n",
    "                sample = x[sample_index]\n",
    "                \n",
    "                sample = np.array(sample).astype(float)\n",
    "                class_samples = np.array(class_samples).astype(float)\n",
    "                \n",
    "                distances = np.linalg.norm(class_samples - sample, axis=1)\n",
    "                nearest_neighbors = np.argsort(distances)[1:k+1]\n",
    "                \n",
    "                neighbor_index = np.random.choice(nearest_neighbors)\n",
    "                neighbor = class_samples[neighbor_index]\n",
    "                \n",
    "                diff = neighbor - sample\n",
    "                synthetic_sample = sample + np.random.rand() * diff\n",
    "                \n",
    "                x_resampled.append(synthetic_sample)\n",
    "                y_resampled.append(class_label)\n",
    "    \n",
    "    return np.array(x_resampled), np.array(y_resampled)\n",
    "\n",
    "x_train_resampled, y_train_resampled = smote(x_train_scaled, y_train)"
   ]
  },
  {
   "cell_type": "code",
   "execution_count": 213,
   "metadata": {},
   "outputs": [],
   "source": [
    "y_train_resampled_series = pd.Series(y_train_resampled)"
   ]
  },
  {
   "cell_type": "markdown",
   "metadata": {},
   "source": [
    "#### Mengecek distribusi kelas yang sudah di SMOTE"
   ]
  },
  {
   "cell_type": "code",
   "execution_count": 214,
   "metadata": {},
   "outputs": [
    {
     "data": {
      "text/plain": [
       "1    16\n",
       "2    16\n",
       "3    16\n",
       "4    16\n",
       "Name: count, dtype: int64"
      ]
     },
     "execution_count": 214,
     "metadata": {},
     "output_type": "execute_result"
    }
   ],
   "source": [
    "y_train_resampled_series.value_counts()"
   ]
  },
  {
   "cell_type": "markdown",
   "metadata": {},
   "source": [
    "# 3. Modelling"
   ]
  },
  {
   "cell_type": "markdown",
   "metadata": {},
   "source": [
    "## 3.1 Model KNN Manual"
   ]
  },
  {
   "cell_type": "code",
   "execution_count": 215,
   "metadata": {},
   "outputs": [],
   "source": [
    "def euclidean_distance(a, b):\n",
    "    return np.sqrt(np.sum((a - b) ** 2))\n",
    "\n",
    "def manhattan_distance(a, b):\n",
    "    return np.sum(np.abs(a - b))\n",
    "\n",
    "def minkowski_distance(a, b, p):\n",
    "    return np.sum(np.abs(a - b) ** p) ** (1 / p)\n",
    "\n",
    "class KNeighborsClassifierManual:\n",
    "    def __init__(self, n_neighbors=5, metric='euclidean', p=3):\n",
    "        self.n_neighbors = n_neighbors\n",
    "        self.metric = metric\n",
    "        self.p = p\n",
    "\n",
    "    def fit(self, X, y):\n",
    "        self.X_train = X\n",
    "        self.y_train = y\n",
    "\n",
    "    def predict(self, X):\n",
    "        predictions = [self._predict(x) for x in X]\n",
    "        return np.array(predictions)\n",
    "    \n",
    "    def _predict(self, x):\n",
    "        distances = [self._distance(x, x_train) for x_train in self.X_train]\n",
    "        k_indices = np.argsort(distances)[:self.n_neighbors]\n",
    "        k_nearest_labels = [self.y_train[i] for i in k_indices]\n",
    "        most_common = np.bincount(k_nearest_labels).argmax()\n",
    "        return most_common\n",
    "    \n",
    "    def _distance(self, a, b):\n",
    "        if self.metric == 'euclidean':\n",
    "            return euclidean_distance(a, b)\n",
    "        elif self.metric == 'manhattan':\n",
    "            return manhattan_distance(a, b)\n",
    "        elif self.metric == 'minkowski':\n",
    "            return minkowski_distance(a, b, self.p)\n",
    "        else:\n",
    "            raise ValueError(f\"Unknown metric: {self.metric}\")"
   ]
  },
  {
   "cell_type": "markdown",
   "metadata": {},
   "source": [
    "## 3.2 Function Evaluasi Untuk KNN "
   ]
  },
  {
   "cell_type": "markdown",
   "metadata": {},
   "source": [
    "### Cross Validation\n",
    "##### Digunakan dalam grid search manual"
   ]
  },
  {
   "cell_type": "code",
   "execution_count": 216,
   "metadata": {},
   "outputs": [],
   "source": [
    "def cross_val_score_knn(knn, X, y, cv=5):\n",
    "    np.random.seed(42)\n",
    "    indices = np.arange(X.shape[0])\n",
    "    np.random.shuffle(indices)\n",
    "    fold_sizes = np.full(cv, X.shape[0] // cv, dtype=int)\n",
    "    fold_sizes[:X.shape[0] % cv] += 1\n",
    "    current = 0\n",
    "    scores = []\n",
    "\n",
    "    for fold_size in fold_sizes:\n",
    "        start, stop = current, current + fold_size\n",
    "        test_indices = indices[start:stop]\n",
    "        train_indices = np.concatenate([indices[:start], indices[stop:]])\n",
    "        current = stop\n",
    "\n",
    "        X_train, X_test = X[train_indices], X[test_indices]\n",
    "        y_train, y_test = y[train_indices], y[test_indices]\n",
    "\n",
    "        knn.fit(X_train, y_train)\n",
    "        y_pred = knn.predict(X_test)\n",
    "        accuracy = np.sum(y_pred == y_test) / len(y_test)\n",
    "        scores.append(accuracy)\n",
    "\n",
    "    return np.array(scores)"
   ]
  },
  {
   "cell_type": "markdown",
   "metadata": {},
   "source": [
    "### Classification Report (Precision, Recall, F1)"
   ]
  },
  {
   "cell_type": "code",
   "execution_count": 217,
   "metadata": {},
   "outputs": [],
   "source": [
    "def precision_recall_f1_support(y_true, y_pred, average=None):\n",
    "    labels = np.unique(np.concatenate((y_true, y_pred)))\n",
    "    report = {}\n",
    "    \n",
    "    for label in labels:\n",
    "        tp = sum((y_true[i] == label) and (y_pred[i] == label) for i in range(len(y_true)))\n",
    "        fp = sum((y_true[i] != label) and (y_pred[i] == label) for i in range(len(y_true)))\n",
    "        fn = sum((y_true[i] == label) and (y_pred[i] != label) for i in range(len(y_true)))\n",
    "        tn = sum((y_true[i] != label) and (y_pred[i] != label) for i in range(len(y_true)))\n",
    "\n",
    "        precision = tp / (tp + fp) if (tp + fp) > 0 else 0\n",
    "        recall = tp / (tp + fn) if (tp + fn) > 0 else 0\n",
    "        f1_score = 2 * (precision * recall) / (precision + recall) if (precision + recall) > 0 else 0\n",
    "        support = sum(y == label for y in y_true)\n",
    "\n",
    "        report[label] = {\n",
    "            'precision': precision,\n",
    "            'recall': recall,\n",
    "            'f1-score': f1_score,\n",
    "            'support': support\n",
    "        }\n",
    "\n",
    "    if average == 'macro':\n",
    "        avg_precision = sum(report[label]['precision'] for label in labels) / len(labels)\n",
    "        avg_recall = sum(report[label]['recall'] for label in labels) / len(labels)\n",
    "        avg_f1_score = sum(report[label]['f1-score'] for label in labels) / len(labels)\n",
    "        avg_support = sum(report[label]['support'] for label in labels)\n",
    "        \n",
    "        report['macro avg'] = {\n",
    "            'precision': avg_precision,\n",
    "            'recall': avg_recall,\n",
    "            'f1-score': avg_f1_score,\n",
    "            'support': avg_support\n",
    "        }\n",
    "    \n",
    "    return report\n",
    "\n",
    "def print_classification_report(report):\n",
    "    print(f\"{'Label':<10} {'Precision':<10} {'Recall':<10} {'F1-Score':<10} {'Support':<10}\")\n",
    "    print(\"=\"*50)\n",
    "    for label, metrics in report.items():\n",
    "        print(f\"{label:<10} {metrics['precision']:<10.2f} {metrics['recall']:<10.2f} {metrics['f1-score']:<10.2f} {metrics['support']:<10}\")"
   ]
  },
  {
   "cell_type": "markdown",
   "metadata": {},
   "source": [
    "### Confusion Matrix manual (False Positive, False Negative)"
   ]
  },
  {
   "cell_type": "code",
   "execution_count": 218,
   "metadata": {},
   "outputs": [],
   "source": [
    "def confusion_matrix_manual(y_true, y_pred):\n",
    "    labels = np.unique(np.concatenate((y_true, y_pred)))\n",
    "    matrix = np.zeros((len(labels), len(labels)), dtype=int)\n",
    "    \n",
    "    label_to_index = {label: index for index, label in enumerate(labels)}\n",
    "    \n",
    "    for true, pred in zip(y_true, y_pred):\n",
    "        matrix[label_to_index[true], label_to_index[pred]] += 1\n",
    "    \n",
    "    return matrix, labels\n",
    "\n",
    "def print_confusion_matrix(matrix, labels):\n",
    "    print(f\"{'':<10}\", end=\"\")\n",
    "    for label in labels:\n",
    "        print(f\"{label:<10}\", end=\"\")\n",
    "    print()\n",
    "    \n",
    "    for i, label in enumerate(labels):\n",
    "        print(f\"{label:<10}\", end=\"\")\n",
    "        for j in range(len(labels)):\n",
    "            print(f\"{matrix[i, j]:<10}\", end=\"\")\n",
    "        print()"
   ]
  },
  {
   "cell_type": "markdown",
   "metadata": {},
   "source": [
    "### Grid Search manual"
   ]
  },
  {
   "cell_type": "code",
   "execution_count": 219,
   "metadata": {},
   "outputs": [],
   "source": [
    "def grid_search_knn(X_train, y_train, param_grid, cv=5):\n",
    "    best_score = 0\n",
    "    best_params = None\n",
    "    for n_neighbors in param_grid['n_neighbors']:\n",
    "        for metric in param_grid['metric']:\n",
    "            for p in param_grid.get('p', [3]):\n",
    "                knn = KNeighborsClassifierManual(n_neighbors=n_neighbors, metric=metric, p=p)\n",
    "                scores = cross_val_score_knn(knn, X_train, y_train, cv=cv)\n",
    "                mean_score = scores.mean()\n",
    "                if mean_score > best_score:\n",
    "                    best_score = mean_score\n",
    "                    best_params = {'n_neighbors': n_neighbors, 'metric': metric, 'p': p}\n",
    "    return best_params, best_score\n",
    "\n",
    "param_grid = {\n",
    "    'n_neighbors': [3, 5, 7, 9, 11],\n",
    "    'metric': ['euclidean', 'manhattan', 'minkowski'],\n",
    "    'p': [1, 2, 3, 4, 5] \n",
    "}"
   ]
  },
  {
   "cell_type": "markdown",
   "metadata": {},
   "source": [
    "### Mencari parameter terbaik"
   ]
  },
  {
   "cell_type": "code",
   "execution_count": 220,
   "metadata": {},
   "outputs": [
    {
     "name": "stdout",
     "output_type": "stream",
     "text": [
      "Best parameters: {'n_neighbors': 3, 'metric': 'minkowski', 'p': 3}\n",
      "Best cross-validation score: 1.0\n"
     ]
    }
   ],
   "source": [
    "best_params, best_score = grid_search_knn(x_train_resampled, y_train_resampled, param_grid, cv=5)\n",
    "print(f'Best parameters: {best_params}')\n",
    "print(f'Best cross-validation score: {best_score}')"
   ]
  },
  {
   "cell_type": "markdown",
   "metadata": {},
   "source": [
    "## 3.3 Implementasi Model pada data"
   ]
  },
  {
   "cell_type": "code",
   "execution_count": 221,
   "metadata": {},
   "outputs": [],
   "source": [
    "knn = KNeighborsClassifierManual(**best_params) # n_neighbors=5,metric='minkowski',p=3\n",
    "knn.fit(x_train_resampled, y_train_resampled)\n",
    "pred = knn.predict(x_test_scaled)"
   ]
  },
  {
   "cell_type": "markdown",
   "metadata": {},
   "source": [
    "# 4. Evaluasi Model"
   ]
  },
  {
   "cell_type": "markdown",
   "metadata": {},
   "source": [
    "## Akurasi dan Classification report"
   ]
  },
  {
   "cell_type": "code",
   "execution_count": 222,
   "metadata": {},
   "outputs": [
    {
     "name": "stdout",
     "output_type": "stream",
     "text": [
      "Akurasi Model KNN 1.0\n"
     ]
    }
   ],
   "source": [
    "accuracy = np.mean(pred == y_test)\n",
    "print(f'Akurasi Model KNN {accuracy}')"
   ]
  },
  {
   "cell_type": "code",
   "execution_count": 223,
   "metadata": {},
   "outputs": [
    {
     "name": "stdout",
     "output_type": "stream",
     "text": [
      "Label      Precision  Recall     F1-Score   Support   \n",
      "==================================================\n",
      "1          1.00       1.00       1.00       3         \n",
      "2          1.00       1.00       1.00       1         \n",
      "3          1.00       1.00       1.00       3         \n",
      "4          1.00       1.00       1.00       3         \n",
      "macro avg  1.00       1.00       1.00       10        \n"
     ]
    }
   ],
   "source": [
    "report_knn = precision_recall_f1_support(y_test, pred, average='macro')\n",
    "print_classification_report(report_knn)"
   ]
  },
  {
   "cell_type": "markdown",
   "metadata": {},
   "source": [
    "## Confusion Matrix"
   ]
  },
  {
   "cell_type": "code",
   "execution_count": 224,
   "metadata": {},
   "outputs": [
    {
     "name": "stdout",
     "output_type": "stream",
     "text": [
      "          1         2         3         4         \n",
      "1         3         0         0         0         \n",
      "2         0         1         0         0         \n",
      "3         0         0         3         0         \n",
      "4         0         0         0         3         \n"
     ]
    }
   ],
   "source": [
    "matrix, labels = confusion_matrix_manual(y_test, pred)\n",
    "print_confusion_matrix(matrix, labels)"
   ]
  },
  {
   "cell_type": "markdown",
   "metadata": {},
   "source": [
    "## Cross Validation"
   ]
  },
  {
   "cell_type": "code",
   "execution_count": 225,
   "metadata": {},
   "outputs": [
    {
     "name": "stdout",
     "output_type": "stream",
     "text": [
      "Cross-validation scores: [1. 1. 1. 1. 1.]\n",
      "Mean accuracy: 1.0\n"
     ]
    }
   ],
   "source": [
    "cv_scores = cross_val_score_knn(knn=knn,X=x_train_resampled,y=y_train_resampled,cv=5)\n",
    "print(f'Cross-validation scores: {cv_scores}')\n",
    "print(f'Mean accuracy: {cv_scores.mean()}')"
   ]
  },
  {
   "cell_type": "code",
   "execution_count": 226,
   "metadata": {},
   "outputs": [
    {
     "name": "stdout",
     "output_type": "stream",
     "text": [
      "Mean accuracy iterasi 1: 0.953125\n",
      "Mean accuracy iterasi 2: 1.0\n",
      "Mean accuracy iterasi 3: 1.0\n",
      "Mean accuracy iterasi 4: 1.0\n",
      "Mean accuracy iterasi 5: 1.0\n",
      "Mean accuracy iterasi 6: 1.0\n",
      "Mean accuracy iterasi 7: 1.0\n",
      "Mean accuracy iterasi 8: 1.0\n",
      "Mean accuracy iterasi 9: 1.0\n",
      "Mean accuracy iterasi 10: 1.0\n",
      "Mean accuracy iterasi 11: 1.0\n",
      "Mean accuracy iterasi 12: 1.0\n",
      "Mean accuracy iterasi 13: 1.0\n",
      "Mean accuracy iterasi 14: 1.0\n",
      "Mean accuracy iterasi 15: 1.0\n",
      "Mean accuracy iterasi 16: 1.0\n",
      "Mean accuracy iterasi 17: 1.0\n",
      "Mean accuracy iterasi 18: 1.0\n",
      "Mean accuracy iterasi 19: 1.0\n",
      "Mean accuracy iterasi 20: 1.0\n",
      "Mean accuracy iterasi 21: 1.0\n",
      "Mean accuracy iterasi 22: 1.0\n",
      "Mean accuracy iterasi 23: 1.0\n",
      "Mean accuracy iterasi 24: 1.0\n"
     ]
    }
   ],
   "source": [
    "for i in [2,3,4,5,6,7,8,9,10,11,12,13,14,15,16,17,18,19,20,21,22,23,24,25]:\n",
    "    cv_scores = cross_val_score_knn(knn=knn,X=x_train_resampled,y=y_train_resampled,cv=i)\n",
    "    print(f'Mean accuracy iterasi {i-1}: {cv_scores.mean()}')"
   ]
  },
  {
   "cell_type": "markdown",
   "metadata": {},
   "source": [
    "# New Data Test"
   ]
  },
  {
   "cell_type": "markdown",
   "metadata": {},
   "source": [
    "### Disini kami menambahkan dua baris data\n",
    "\n",
    "#### yang pertama adalah data dimana produsen buah tidak diketahui (Other), dan yang kedua dimana produsen buah diasumsikan dari salah satu produsen buah apel(cripps_pink)\n",
    "\n",
    "#### Kami mengasumsikan ini dikarenakan data yang kami dapat memiliki banyak kesamaan dengan data untuk buah apel (Lihat cell code dibawah markdown: Asumsi apel)"
   ]
  },
  {
   "cell_type": "code",
   "execution_count": 235,
   "metadata": {},
   "outputs": [],
   "source": [
    "new_data = {\n",
    "    'mass':[160,160,160,160],\n",
    "    'width':[7.2,7.2,7.2,7.2],\n",
    "    'height':[7.4,7.4,7.4,7.4],\n",
    "    'color_score': [0.8,0.8,0.8,0.8],\n",
    "    'fruit_subtype_braeburn': [0,0,0,0],\n",
    "    'fruit_subtype_cripps_pink':[0,1,0,0],\n",
    "    'fruit_subtype_golden_delicious':[0,0,0,0],\n",
    "    'fruit_subtype_granny_smith':[0,0,0,0],\n",
    "    'fruit_subtype_mandarin':[0,0,0,1],\n",
    "    'fruit_subtype_selected_seconds':[0,0,1,0],\n",
    "    'fruit_subtype_spanish_belsan':[0,0,0,0],\n",
    "    'fruit_subtype_spanish_jumbo':[0,0,0,0],\n",
    "    'fruit_subtype_turkey_navel':[0,0,0,0],\n",
    "    'fruit_subtype_others':[1,0,0,0],\n",
    "    'density' : [(160 / (7.2 * 7.4)),(160 / (7.2 * 7.4)),(160 / (7.2 * 7.4)),(160 / (7.2 * 7.4))],\n",
    "}\n",
    "\n",
    "new_df = pd.DataFrame(new_data)"
   ]
  },
  {
   "cell_type": "code",
   "execution_count": 236,
   "metadata": {},
   "outputs": [
    {
     "data": {
      "text/html": [
       "<div>\n",
       "<style scoped>\n",
       "    .dataframe tbody tr th:only-of-type {\n",
       "        vertical-align: middle;\n",
       "    }\n",
       "\n",
       "    .dataframe tbody tr th {\n",
       "        vertical-align: top;\n",
       "    }\n",
       "\n",
       "    .dataframe thead th {\n",
       "        text-align: right;\n",
       "    }\n",
       "</style>\n",
       "<table border=\"1\" class=\"dataframe\">\n",
       "  <thead>\n",
       "    <tr style=\"text-align: right;\">\n",
       "      <th></th>\n",
       "      <th>mass</th>\n",
       "      <th>width</th>\n",
       "      <th>height</th>\n",
       "      <th>color_score</th>\n",
       "      <th>fruit_subtype_braeburn</th>\n",
       "      <th>fruit_subtype_cripps_pink</th>\n",
       "      <th>fruit_subtype_golden_delicious</th>\n",
       "      <th>fruit_subtype_granny_smith</th>\n",
       "      <th>fruit_subtype_mandarin</th>\n",
       "      <th>fruit_subtype_selected_seconds</th>\n",
       "      <th>fruit_subtype_spanish_belsan</th>\n",
       "      <th>fruit_subtype_spanish_jumbo</th>\n",
       "      <th>fruit_subtype_turkey_navel</th>\n",
       "      <th>fruit_subtype_others</th>\n",
       "      <th>density</th>\n",
       "    </tr>\n",
       "  </thead>\n",
       "  <tbody>\n",
       "    <tr>\n",
       "      <th>0</th>\n",
       "      <td>160</td>\n",
       "      <td>7.2</td>\n",
       "      <td>7.4</td>\n",
       "      <td>0.8</td>\n",
       "      <td>0</td>\n",
       "      <td>0</td>\n",
       "      <td>0</td>\n",
       "      <td>0</td>\n",
       "      <td>0</td>\n",
       "      <td>0</td>\n",
       "      <td>0</td>\n",
       "      <td>0</td>\n",
       "      <td>0</td>\n",
       "      <td>1</td>\n",
       "      <td>3.003003</td>\n",
       "    </tr>\n",
       "    <tr>\n",
       "      <th>1</th>\n",
       "      <td>160</td>\n",
       "      <td>7.2</td>\n",
       "      <td>7.4</td>\n",
       "      <td>0.8</td>\n",
       "      <td>0</td>\n",
       "      <td>1</td>\n",
       "      <td>0</td>\n",
       "      <td>0</td>\n",
       "      <td>0</td>\n",
       "      <td>0</td>\n",
       "      <td>0</td>\n",
       "      <td>0</td>\n",
       "      <td>0</td>\n",
       "      <td>0</td>\n",
       "      <td>3.003003</td>\n",
       "    </tr>\n",
       "    <tr>\n",
       "      <th>2</th>\n",
       "      <td>160</td>\n",
       "      <td>7.2</td>\n",
       "      <td>7.4</td>\n",
       "      <td>0.8</td>\n",
       "      <td>0</td>\n",
       "      <td>0</td>\n",
       "      <td>0</td>\n",
       "      <td>0</td>\n",
       "      <td>0</td>\n",
       "      <td>1</td>\n",
       "      <td>0</td>\n",
       "      <td>0</td>\n",
       "      <td>0</td>\n",
       "      <td>0</td>\n",
       "      <td>3.003003</td>\n",
       "    </tr>\n",
       "    <tr>\n",
       "      <th>3</th>\n",
       "      <td>160</td>\n",
       "      <td>7.2</td>\n",
       "      <td>7.4</td>\n",
       "      <td>0.8</td>\n",
       "      <td>0</td>\n",
       "      <td>0</td>\n",
       "      <td>0</td>\n",
       "      <td>0</td>\n",
       "      <td>1</td>\n",
       "      <td>0</td>\n",
       "      <td>0</td>\n",
       "      <td>0</td>\n",
       "      <td>0</td>\n",
       "      <td>0</td>\n",
       "      <td>3.003003</td>\n",
       "    </tr>\n",
       "  </tbody>\n",
       "</table>\n",
       "</div>"
      ],
      "text/plain": [
       "   mass  width  height  color_score  fruit_subtype_braeburn  \\\n",
       "0   160    7.2     7.4          0.8                       0   \n",
       "1   160    7.2     7.4          0.8                       0   \n",
       "2   160    7.2     7.4          0.8                       0   \n",
       "3   160    7.2     7.4          0.8                       0   \n",
       "\n",
       "   fruit_subtype_cripps_pink  fruit_subtype_golden_delicious  \\\n",
       "0                          0                               0   \n",
       "1                          1                               0   \n",
       "2                          0                               0   \n",
       "3                          0                               0   \n",
       "\n",
       "   fruit_subtype_granny_smith  fruit_subtype_mandarin  \\\n",
       "0                           0                       0   \n",
       "1                           0                       0   \n",
       "2                           0                       0   \n",
       "3                           0                       1   \n",
       "\n",
       "   fruit_subtype_selected_seconds  fruit_subtype_spanish_belsan  \\\n",
       "0                               0                             0   \n",
       "1                               0                             0   \n",
       "2                               1                             0   \n",
       "3                               0                             0   \n",
       "\n",
       "   fruit_subtype_spanish_jumbo  fruit_subtype_turkey_navel  \\\n",
       "0                            0                           0   \n",
       "1                            0                           0   \n",
       "2                            0                           0   \n",
       "3                            0                           0   \n",
       "\n",
       "   fruit_subtype_others   density  \n",
       "0                     1  3.003003  \n",
       "1                     0  3.003003  \n",
       "2                     0  3.003003  \n",
       "3                     0  3.003003  "
      ]
     },
     "execution_count": 236,
     "metadata": {},
     "output_type": "execute_result"
    }
   ],
   "source": [
    "new_df"
   ]
  },
  {
   "cell_type": "code",
   "execution_count": 237,
   "metadata": {},
   "outputs": [],
   "source": [
    "scaled_ready = np.array((new_df - minim) / (maxim - minim + 1e-10))"
   ]
  },
  {
   "cell_type": "code",
   "execution_count": 238,
   "metadata": {},
   "outputs": [
    {
     "data": {
      "text/plain": [
       "array([[0.2836879432623108, 0.3684210526218838, 0.49999999999193556,\n",
       "        0.6363636361707989, 0.0, 0.0, 0.0, 0.0, 0.0, 0.0, 0.0, 0.0, 0.0,\n",
       "        0.9999999999, 0.4113760358562581],\n",
       "       [0.2836879432623108, 0.3684210526218838, 0.49999999999193556,\n",
       "        0.6363636361707989, 0.0, 0.9999999999, 0.0, 0.0, 0.0, 0.0, 0.0,\n",
       "        0.0, 0.0, 0.0, 0.4113760358562581],\n",
       "       [0.2836879432623108, 0.3684210526218838, 0.49999999999193556,\n",
       "        0.6363636361707989, 0.0, 0.0, 0.0, 0.0, 0.0, 0.9999999999, 0.0,\n",
       "        0.0, 0.0, 0.0, 0.4113760358562581],\n",
       "       [0.2836879432623108, 0.3684210526218838, 0.49999999999193556,\n",
       "        0.6363636361707989, 0.0, 0.0, 0.0, 0.0, 0.9999999999, 0.0, 0.0,\n",
       "        0.0, 0.0, 0.0, 0.4113760358562581]], dtype=object)"
      ]
     },
     "execution_count": 238,
     "metadata": {},
     "output_type": "execute_result"
    }
   ],
   "source": [
    "scaled_ready"
   ]
  },
  {
   "cell_type": "code",
   "execution_count": 240,
   "metadata": {},
   "outputs": [
    {
     "name": "stdout",
     "output_type": "stream",
     "text": [
      "Buah 1 adalah buah Lemon.\n",
      "Buah 2 adalah buah Apel.\n",
      "Buah 3 adalah buah Orange / Jeruk.\n",
      "Buah 4 adalah buah Mandarin.\n"
     ]
    }
   ],
   "source": [
    "new_pred = knn.predict(scaled_ready)\n",
    "for i in [0,1,2,3]:\n",
    "    if new_pred[i] == 1:\n",
    "        print(f'Buah {i+1} adalah buah Apel.')\n",
    "    elif new_pred[i] == 2:\n",
    "        print(f'Buah {i+1} adalah buah Mandarin.')\n",
    "    elif new_pred[i] == 3:\n",
    "        print(f'Buah {i+1} adalah buah Orange / Jeruk.')\n",
    "    else:\n",
    "        print(f'Buah {i+1} adalah buah Lemon.')"
   ]
  },
  {
   "cell_type": "markdown",
   "metadata": {},
   "source": [
    "### Asumsi Apel"
   ]
  },
  {
   "cell_type": "markdown",
   "metadata": {},
   "source": [
    "#### Groupby data dari dataframe backup dan Membandingkan data baru dengan rata-rata dari data buah apel"
   ]
  },
  {
   "cell_type": "code",
   "execution_count": 241,
   "metadata": {},
   "outputs": [],
   "source": [
    "fruit_data = df_backup.groupby('fruit_name')[['mass','width','height','color_score']].mean()"
   ]
  },
  {
   "cell_type": "code",
   "execution_count": 242,
   "metadata": {},
   "outputs": [
    {
     "data": {
      "text/html": [
       "<div>\n",
       "<style scoped>\n",
       "    .dataframe tbody tr th:only-of-type {\n",
       "        vertical-align: middle;\n",
       "    }\n",
       "\n",
       "    .dataframe tbody tr th {\n",
       "        vertical-align: top;\n",
       "    }\n",
       "\n",
       "    .dataframe thead th {\n",
       "        text-align: right;\n",
       "    }\n",
       "</style>\n",
       "<table border=\"1\" class=\"dataframe\">\n",
       "  <thead>\n",
       "    <tr style=\"text-align: right;\">\n",
       "      <th></th>\n",
       "      <th>mass</th>\n",
       "      <th>width</th>\n",
       "      <th>height</th>\n",
       "      <th>color_score</th>\n",
       "    </tr>\n",
       "    <tr>\n",
       "      <th>fruit_name</th>\n",
       "      <th></th>\n",
       "      <th></th>\n",
       "      <th></th>\n",
       "      <th></th>\n",
       "    </tr>\n",
       "  </thead>\n",
       "  <tbody>\n",
       "    <tr>\n",
       "      <th>apple</th>\n",
       "      <td>165.052632</td>\n",
       "      <td>7.457895</td>\n",
       "      <td>7.342105</td>\n",
       "      <td>0.783684</td>\n",
       "    </tr>\n",
       "    <tr>\n",
       "      <th>lemon</th>\n",
       "      <td>150.000000</td>\n",
       "      <td>6.512500</td>\n",
       "      <td>8.856250</td>\n",
       "      <td>0.718125</td>\n",
       "    </tr>\n",
       "    <tr>\n",
       "      <th>mandarin</th>\n",
       "      <td>81.200000</td>\n",
       "      <td>5.940000</td>\n",
       "      <td>4.380000</td>\n",
       "      <td>0.796000</td>\n",
       "    </tr>\n",
       "    <tr>\n",
       "      <th>orange</th>\n",
       "      <td>193.789474</td>\n",
       "      <td>7.557895</td>\n",
       "      <td>7.936842</td>\n",
       "      <td>0.771053</td>\n",
       "    </tr>\n",
       "  </tbody>\n",
       "</table>\n",
       "</div>"
      ],
      "text/plain": [
       "                  mass     width    height  color_score\n",
       "fruit_name                                             \n",
       "apple       165.052632  7.457895  7.342105     0.783684\n",
       "lemon       150.000000  6.512500  8.856250     0.718125\n",
       "mandarin     81.200000  5.940000  4.380000     0.796000\n",
       "orange      193.789474  7.557895  7.936842     0.771053"
      ]
     },
     "execution_count": 242,
     "metadata": {},
     "output_type": "execute_result"
    }
   ],
   "source": [
    "fruit_data"
   ]
  },
  {
   "cell_type": "code",
   "execution_count": 243,
   "metadata": {},
   "outputs": [
    {
     "data": {
      "text/html": [
       "<div>\n",
       "<style scoped>\n",
       "    .dataframe tbody tr th:only-of-type {\n",
       "        vertical-align: middle;\n",
       "    }\n",
       "\n",
       "    .dataframe tbody tr th {\n",
       "        vertical-align: top;\n",
       "    }\n",
       "\n",
       "    .dataframe thead th {\n",
       "        text-align: right;\n",
       "    }\n",
       "</style>\n",
       "<table border=\"1\" class=\"dataframe\">\n",
       "  <thead>\n",
       "    <tr style=\"text-align: right;\">\n",
       "      <th></th>\n",
       "      <th>mass</th>\n",
       "      <th>width</th>\n",
       "      <th>height</th>\n",
       "      <th>color_score</th>\n",
       "      <th>fruit_subtype_braeburn</th>\n",
       "      <th>fruit_subtype_cripps_pink</th>\n",
       "      <th>fruit_subtype_golden_delicious</th>\n",
       "      <th>fruit_subtype_granny_smith</th>\n",
       "      <th>fruit_subtype_mandarin</th>\n",
       "      <th>fruit_subtype_selected_seconds</th>\n",
       "      <th>fruit_subtype_spanish_belsan</th>\n",
       "      <th>fruit_subtype_spanish_jumbo</th>\n",
       "      <th>fruit_subtype_turkey_navel</th>\n",
       "      <th>fruit_subtype_others</th>\n",
       "      <th>density</th>\n",
       "    </tr>\n",
       "  </thead>\n",
       "  <tbody>\n",
       "    <tr>\n",
       "      <th>0</th>\n",
       "      <td>160</td>\n",
       "      <td>7.2</td>\n",
       "      <td>7.4</td>\n",
       "      <td>0.8</td>\n",
       "      <td>0</td>\n",
       "      <td>0</td>\n",
       "      <td>0</td>\n",
       "      <td>0</td>\n",
       "      <td>0</td>\n",
       "      <td>0</td>\n",
       "      <td>0</td>\n",
       "      <td>0</td>\n",
       "      <td>0</td>\n",
       "      <td>1</td>\n",
       "      <td>3.003003</td>\n",
       "    </tr>\n",
       "    <tr>\n",
       "      <th>1</th>\n",
       "      <td>160</td>\n",
       "      <td>7.2</td>\n",
       "      <td>7.4</td>\n",
       "      <td>0.8</td>\n",
       "      <td>0</td>\n",
       "      <td>1</td>\n",
       "      <td>0</td>\n",
       "      <td>0</td>\n",
       "      <td>0</td>\n",
       "      <td>0</td>\n",
       "      <td>0</td>\n",
       "      <td>0</td>\n",
       "      <td>0</td>\n",
       "      <td>0</td>\n",
       "      <td>3.003003</td>\n",
       "    </tr>\n",
       "    <tr>\n",
       "      <th>2</th>\n",
       "      <td>160</td>\n",
       "      <td>7.2</td>\n",
       "      <td>7.4</td>\n",
       "      <td>0.8</td>\n",
       "      <td>0</td>\n",
       "      <td>0</td>\n",
       "      <td>0</td>\n",
       "      <td>0</td>\n",
       "      <td>0</td>\n",
       "      <td>1</td>\n",
       "      <td>0</td>\n",
       "      <td>0</td>\n",
       "      <td>0</td>\n",
       "      <td>0</td>\n",
       "      <td>3.003003</td>\n",
       "    </tr>\n",
       "    <tr>\n",
       "      <th>3</th>\n",
       "      <td>160</td>\n",
       "      <td>7.2</td>\n",
       "      <td>7.4</td>\n",
       "      <td>0.8</td>\n",
       "      <td>0</td>\n",
       "      <td>0</td>\n",
       "      <td>0</td>\n",
       "      <td>0</td>\n",
       "      <td>1</td>\n",
       "      <td>0</td>\n",
       "      <td>0</td>\n",
       "      <td>0</td>\n",
       "      <td>0</td>\n",
       "      <td>0</td>\n",
       "      <td>3.003003</td>\n",
       "    </tr>\n",
       "  </tbody>\n",
       "</table>\n",
       "</div>"
      ],
      "text/plain": [
       "   mass  width  height  color_score  fruit_subtype_braeburn  \\\n",
       "0   160    7.2     7.4          0.8                       0   \n",
       "1   160    7.2     7.4          0.8                       0   \n",
       "2   160    7.2     7.4          0.8                       0   \n",
       "3   160    7.2     7.4          0.8                       0   \n",
       "\n",
       "   fruit_subtype_cripps_pink  fruit_subtype_golden_delicious  \\\n",
       "0                          0                               0   \n",
       "1                          1                               0   \n",
       "2                          0                               0   \n",
       "3                          0                               0   \n",
       "\n",
       "   fruit_subtype_granny_smith  fruit_subtype_mandarin  \\\n",
       "0                           0                       0   \n",
       "1                           0                       0   \n",
       "2                           0                       0   \n",
       "3                           0                       1   \n",
       "\n",
       "   fruit_subtype_selected_seconds  fruit_subtype_spanish_belsan  \\\n",
       "0                               0                             0   \n",
       "1                               0                             0   \n",
       "2                               1                             0   \n",
       "3                               0                             0   \n",
       "\n",
       "   fruit_subtype_spanish_jumbo  fruit_subtype_turkey_navel  \\\n",
       "0                            0                           0   \n",
       "1                            0                           0   \n",
       "2                            0                           0   \n",
       "3                            0                           0   \n",
       "\n",
       "   fruit_subtype_others   density  \n",
       "0                     1  3.003003  \n",
       "1                     0  3.003003  \n",
       "2                     0  3.003003  \n",
       "3                     0  3.003003  "
      ]
     },
     "execution_count": 243,
     "metadata": {},
     "output_type": "execute_result"
    }
   ],
   "source": [
    "new_df"
   ]
  },
  {
   "cell_type": "markdown",
   "metadata": {},
   "source": [
    "# Kesimpulan:"
   ]
  },
  {
   "cell_type": "markdown",
   "metadata": {},
   "source": [
    "1. Mode**l dapat memprediksi buah dengan baik untuk dataset ini saja**, karena **kekurangan data yang cukup untuk melatih model (dan melakukan tes pada model)**, model kami dapat memprediksi buah tersebut dengan benar jika memiliki data yang sangat mirip dengan data yang sudah ada; **Tidak cocok untuk penggunaan skala besar di industri pangan**.\n",
    "\n",
    "2. **Model kami dapat memprediksi data baru dengan benar (asumsi, apel) jika produsen diketahui**, karena di dalam dataset semua produsen apel diketahui produsennya. Maka, **jika produsen tidak diketahui, dia akan memprediksi buah Lemon (Lemon saja yang memiliki produsen yang tidak diketahui).** **Poin ini kami buktikan** dengan menambahkan data yang identik, dengan asumsi pembuatnya adalah salah satu pembuat produsen apel pada new data di baris ke dua.\n",
    "\n",
    "3. Kami membutuhkan lebih banyak data untuk memastikan ketepatan model kami, agar dapat ditentukan jika sudah dapat digunakan di industri pangan."
   ]
  }
 ],
 "metadata": {
  "kernelspec": {
   "display_name": "Python 3",
   "language": "python",
   "name": "python3"
  },
  "language_info": {
   "codemirror_mode": {
    "name": "ipython",
    "version": 3
   },
   "file_extension": ".py",
   "mimetype": "text/x-python",
   "name": "python",
   "nbconvert_exporter": "python",
   "pygments_lexer": "ipython3",
   "version": "3.12.7"
  }
 },
 "nbformat": 4,
 "nbformat_minor": 2
}
