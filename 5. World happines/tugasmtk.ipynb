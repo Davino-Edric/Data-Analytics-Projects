{
 "cells": [
  {
   "cell_type": "code",
   "execution_count": 22,
   "metadata": {},
   "outputs": [],
   "source": [
    "import numpy as np\n",
    "import pandas as pd"
   ]
  },
  {
   "cell_type": "code",
   "execution_count": 23,
   "metadata": {},
   "outputs": [],
   "source": [
    "x = [60,90,30,80,70,50,80,100]\n",
    "y = [300,490,180,420,390,250,410,520]"
   ]
  },
  {
   "cell_type": "code",
   "execution_count": 24,
   "metadata": {},
   "outputs": [],
   "source": [
    "ypred = []\n",
    "me = []\n",
    "mse = []\n",
    "for i, valued in enumerate(x):\n",
    "    pred = (10.278) + (5.1389 * valued)\n",
    "    ypred.append(pred)"
   ]
  },
  {
   "cell_type": "code",
   "execution_count": 25,
   "metadata": {},
   "outputs": [
    {
     "data": {
      "text/plain": [
       "[318.61199999999997,\n",
       " 472.779,\n",
       " 164.44499999999996,\n",
       " 421.39,\n",
       " 370.001,\n",
       " 267.223,\n",
       " 421.39,\n",
       " 524.168]"
      ]
     },
     "execution_count": 25,
     "metadata": {},
     "output_type": "execute_result"
    }
   ],
   "source": [
    "ypred"
   ]
  },
  {
   "cell_type": "code",
   "execution_count": 36,
   "metadata": {},
   "outputs": [],
   "source": [
    "me = []\n",
    "mse = []\n",
    "for idx,real in enumerate(y):\n",
    "        error = real- ypred[idx]\n",
    "        me.append(error)\n",
    "        error2 = (me[idx]**2)\n",
    "        mse.append(error2)\n",
    "\n",
    "summed = sum(mse)"
   ]
  },
  {
   "cell_type": "code",
   "execution_count": 27,
   "metadata": {},
   "outputs": [
    {
     "data": {
      "text/plain": [
       "[-18.611999999999966,\n",
       " 17.221000000000004,\n",
       " 15.555000000000035,\n",
       " -1.3899999999999864,\n",
       " 19.999000000000024,\n",
       " -17.223000000000013,\n",
       " -11.389999999999986,\n",
       " -4.168000000000006]"
      ]
     },
     "execution_count": 27,
     "metadata": {},
     "output_type": "execute_result"
    }
   ],
   "source": [
    "me"
   ]
  },
  {
   "cell_type": "code",
   "execution_count": 28,
   "metadata": {},
   "outputs": [
    {
     "data": {
      "text/plain": [
       "[346.40654399999875,\n",
       " 296.5628410000001,\n",
       " 241.9580250000011,\n",
       " 1.9320999999999622,\n",
       " 399.96000100000094,\n",
       " 296.63172900000046,\n",
       " 129.7320999999997,\n",
       " 17.372224000000053]"
      ]
     },
     "execution_count": 28,
     "metadata": {},
     "output_type": "execute_result"
    }
   ],
   "source": [
    "mse"
   ]
  },
  {
   "cell_type": "code",
   "execution_count": 37,
   "metadata": {},
   "outputs": [
    {
     "data": {
      "text/plain": [
       "1730.5555640000011"
      ]
     },
     "execution_count": 37,
     "metadata": {},
     "output_type": "execute_result"
    }
   ],
   "source": [
    "summed"
   ]
  },
  {
   "cell_type": "code",
   "execution_count": null,
   "metadata": {},
   "outputs": [],
   "source": []
  }
 ],
 "metadata": {
  "kernelspec": {
   "display_name": "Python 3",
   "language": "python",
   "name": "python3"
  },
  "language_info": {
   "codemirror_mode": {
    "name": "ipython",
    "version": 3
   },
   "file_extension": ".py",
   "mimetype": "text/x-python",
   "name": "python",
   "nbconvert_exporter": "python",
   "pygments_lexer": "ipython3",
   "version": "3.13.0"
  }
 },
 "nbformat": 4,
 "nbformat_minor": 2
}
